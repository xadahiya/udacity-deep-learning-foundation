{
 "cells": [
  {
   "cell_type": "markdown",
   "metadata": {
    "deletable": true,
    "editable": true
   },
   "source": [
    "# TV Script Generation\n",
    "In this project, you'll generate your own [Simpsons](https://en.wikipedia.org/wiki/The_Simpsons) TV scripts using RNNs.  You'll be using part of the [Simpsons dataset](https://www.kaggle.com/wcukierski/the-simpsons-by-the-data) of scripts from 27 seasons.  The Neural Network you'll build will generate a new TV script for a scene at [Moe's Tavern](https://simpsonswiki.com/wiki/Moe's_Tavern).\n",
    "## Get the Data\n",
    "The data is already provided for you.  You'll be using a subset of the original dataset.  It consists of only the scenes in Moe's Tavern.  This doesn't include other versions of the tavern, like \"Moe's Cavern\", \"Flaming Moe's\", \"Uncle Moe's Family Feed-Bag\", etc.."
   ]
  },
  {
   "cell_type": "code",
   "execution_count": 22,
   "metadata": {
    "collapsed": false,
    "deletable": true,
    "editable": true
   },
   "outputs": [],
   "source": [
    "\"\"\"\n",
    "DON'T MODIFY ANYTHING IN THIS CELL\n",
    "\"\"\"\n",
    "import helper\n",
    "\n",
    "data_dir = './data/simpsons/moes_tavern_lines.txt'\n",
    "text = helper.load_data(data_dir)\n",
    "# Ignore notice, since we don't use it for analysing the data\n",
    "text = text[81:]"
   ]
  },
  {
   "cell_type": "markdown",
   "metadata": {
    "deletable": true,
    "editable": true
   },
   "source": [
    "## Explore the Data\n",
    "Play around with `view_sentence_range` to view different parts of the data."
   ]
  },
  {
   "cell_type": "code",
   "execution_count": 23,
   "metadata": {
    "collapsed": false,
    "deletable": true,
    "editable": true
   },
   "outputs": [
    {
     "name": "stdout",
     "output_type": "stream",
     "text": [
      "Dataset Stats\n",
      "Roughly the number of unique words: 11492\n",
      "Number of scenes: 262\n",
      "Average number of sentences in each scene: 15.248091603053435\n",
      "Number of lines: 4257\n",
      "Average number of words in each line: 11.50434578341555\n",
      "\n",
      "The sentences 0 to 10:\n",
      "Moe_Szyslak: (INTO PHONE) Moe's Tavern. Where the elite meet to drink.\n",
      "Bart_Simpson: Eh, yeah, hello, is Mike there? Last name, Rotch.\n",
      "Moe_Szyslak: (INTO PHONE) Hold on, I'll check. (TO BARFLIES) Mike Rotch. Mike Rotch. Hey, has anybody seen Mike Rotch, lately?\n",
      "Moe_Szyslak: (INTO PHONE) Listen you little puke. One of these days I'm gonna catch you, and I'm gonna carve my name on your back with an ice pick.\n",
      "Moe_Szyslak: What's the matter Homer? You're not your normal effervescent self.\n",
      "Homer_Simpson: I got my problems, Moe. Give me another one.\n",
      "Moe_Szyslak: Homer, hey, you should not drink to forget your problems.\n",
      "Barney_Gumble: Yeah, you should only drink to enhance your social skills.\n",
      "\n",
      "\n"
     ]
    }
   ],
   "source": [
    "view_sentence_range = (0, 10)\n",
    "\n",
    "\"\"\"\n",
    "DON'T MODIFY ANYTHING IN THIS CELL\n",
    "\"\"\"\n",
    "import numpy as np\n",
    "\n",
    "print('Dataset Stats')\n",
    "print('Roughly the number of unique words: {}'.format(len({word: None for word in text.split()})))\n",
    "scenes = text.split('\\n\\n')\n",
    "print('Number of scenes: {}'.format(len(scenes)))\n",
    "sentence_count_scene = [scene.count('\\n') for scene in scenes]\n",
    "print('Average number of sentences in each scene: {}'.format(np.average(sentence_count_scene)))\n",
    "\n",
    "sentences = [sentence for scene in scenes for sentence in scene.split('\\n')]\n",
    "print('Number of lines: {}'.format(len(sentences)))\n",
    "word_count_sentence = [len(sentence.split()) for sentence in sentences]\n",
    "print('Average number of words in each line: {}'.format(np.average(word_count_sentence)))\n",
    "\n",
    "print()\n",
    "print('The sentences {} to {}:'.format(*view_sentence_range))\n",
    "print('\\n'.join(text.split('\\n')[view_sentence_range[0]:view_sentence_range[1]]))"
   ]
  },
  {
   "cell_type": "markdown",
   "metadata": {
    "deletable": true,
    "editable": true
   },
   "source": [
    "## Implement Preprocessing Functions\n",
    "The first thing to do to any dataset is preprocessing.  Implement the following preprocessing functions below:\n",
    "- Lookup Table\n",
    "- Tokenize Punctuation\n",
    "\n",
    "### Lookup Tablel\n",
    "To create a word embedding, you first need to transform the words to ids.  In this function, create two dictionaries:\n",
    "- Dictionary to go from the words to an id, we'll call `vocab_to_int`\n",
    "- Dictionary to go from the id to word, we'll call `int_to_vocab`\n",
    "\n",
    "Return these dictionaries in the following tuple `(vocab_to_int, int_to_vocab)`"
   ]
  },
  {
   "cell_type": "code",
   "execution_count": 24,
   "metadata": {
    "collapsed": false,
    "deletable": true,
    "editable": true
   },
   "outputs": [
    {
     "name": "stdout",
     "output_type": "stream",
     "text": [
      "Tests Passed\n"
     ]
    }
   ],
   "source": [
    "import numpy as np\n",
    "import problem_unittests as tests\n",
    "\n",
    "def create_lookup_tables(text):\n",
    "    \"\"\"\n",
    "    Create lookup tables for vocabulary\n",
    "    :param text: The text of tv scripts\n",
    "    :return: A tuple of dicts (vocab_to_int, int_to_vocab)\n",
    "    \"\"\"\n",
    "    # TODO: Implement Function\n",
    "    vocab = set(text)\n",
    "    \n",
    "    vocab_to_int = {c:i for i,c in enumerate(vocab)}\n",
    "    int_to_vocab = dict(enumerate(vocab))\n",
    "    \n",
    "    return (vocab_to_int, int_to_vocab)\n",
    "\n",
    "\n",
    "\n",
    "\"\"\"\n",
    "DON'T MODIFY ANYTHING IN THIS CELL THAT IS BELOW THIS LINE\n",
    "\"\"\"\n",
    "tests.test_create_lookup_tables(create_lookup_tables)"
   ]
  },
  {
   "cell_type": "markdown",
   "metadata": {
    "deletable": true,
    "editable": true
   },
   "source": [
    "### Tokenize Punctuation\n",
    "We'll be splitting the script into a word array using spaces as delimiters.  However, punctuations like periods and exclamation marks make it hard for the neural network to distinguish between the word \"bye\" and \"bye!\".\n",
    "\n",
    "Implement the function `token_lookup` to return a dict that will be used to tokenize symbols like \"!\" into \"||Exclamation_Mark||\".  Create a dictionary for the following symbols where the symbol is the key and value is the token:\n",
    "- Period ( . )\n",
    "- Comma ( , )\n",
    "- Quotation Mark ( \" )\n",
    "- Semicolon ( ; )\n",
    "- Exclamation mark ( ! )\n",
    "- Question mark ( ? )\n",
    "- Left Parentheses ( ( )\n",
    "- Right Parentheses ( ) )\n",
    "- Dash ( -- )\n",
    "- Return ( \\n )\n",
    "\n",
    "This dictionary will be used to token the symbols and add the delimiter (space) around it.  This separates the symbols as it's own word, making it easier for the neural network to predict on the next word."
   ]
  },
  {
   "cell_type": "code",
   "execution_count": 25,
   "metadata": {
    "collapsed": false,
    "deletable": true,
    "editable": true
   },
   "outputs": [
    {
     "name": "stdout",
     "output_type": "stream",
     "text": [
      "Tests Passed\n"
     ]
    }
   ],
   "source": [
    "def token_lookup():\n",
    "    \"\"\"\n",
    "    Generate a dict to turn punctuation into a token.\n",
    "    :return: Tokenize dictionary where the key is the punctuation and the value is the token\n",
    "    \"\"\"\n",
    "    # TODO: Implement Function\n",
    "    return {\".\":\"||Period||\", \",\":\"||Comma||\", \"\\\"\":\"||Quotation_Mark||\", \";\":\"||Semicolon||\",\n",
    "            \"!\":\"||Exclamation_mark||\", \"?\":\"||Question_mark||\", \"(\":\"||Left_Parentheses||\",\n",
    "            \")\": \"||Right_Parentheses||\", \"--\":\"||Dash||\",\"\\n\":\"||Return||\"}\n",
    "\n",
    "\"\"\"\n",
    "DON'T MODIFY ANYTHING IN THIS CELL THAT IS BELOW THIS LINE\n",
    "\"\"\"\n",
    "tests.test_tokenize(token_lookup)"
   ]
  },
  {
   "cell_type": "markdown",
   "metadata": {
    "deletable": true,
    "editable": true
   },
   "source": [
    "## Preprocess all the data and save it\n",
    "Running the code cell below will preprocess all the data and save it to file."
   ]
  },
  {
   "cell_type": "code",
   "execution_count": 26,
   "metadata": {
    "collapsed": false,
    "deletable": true,
    "editable": true
   },
   "outputs": [],
   "source": [
    "\"\"\"\n",
    "DON'T MODIFY ANYTHING IN THIS CELL\n",
    "\"\"\"\n",
    "# Preprocess Training, Validation, and Testing Data\n",
    "helper.preprocess_and_save_data(data_dir, token_lookup, create_lookup_tables)"
   ]
  },
  {
   "cell_type": "markdown",
   "metadata": {
    "deletable": true,
    "editable": true
   },
   "source": [
    "# Check Point\n",
    "This is your first checkpoint. If you ever decide to come back to this notebook or have to restart the notebook, you can start from here. The preprocessed data has been saved to disk."
   ]
  },
  {
   "cell_type": "code",
   "execution_count": 1,
   "metadata": {
    "collapsed": false,
    "deletable": true,
    "editable": true
   },
   "outputs": [],
   "source": [
    "\"\"\"\n",
    "DON'T MODIFY ANYTHING IN THIS CELL\n",
    "\"\"\"\n",
    "import helper\n",
    "import numpy as np\n",
    "import problem_unittests as tests\n",
    "\n",
    "int_text, vocab_to_int, int_to_vocab, token_dict = helper.load_preprocess()"
   ]
  },
  {
   "cell_type": "markdown",
   "metadata": {
    "deletable": true,
    "editable": true
   },
   "source": [
    "## Build the Neural Network\n",
    "You'll build the components necessary to build a RNN by implementing the following functions below:\n",
    "- get_inputs\n",
    "- get_init_cell\n",
    "- get_embed\n",
    "- build_rnn\n",
    "- build_nn\n",
    "- get_batches\n",
    "\n",
    "### Input\n",
    "Implement the `get_inputs()` function to create TF Placeholders for the Neural Network.  It should create the following placeholders:\n",
    "- Input text placeholder named \"input\" using the [TF Placeholder](https://www.tensorflow.org/api_docs/python/tf/placeholder) `name` parameter.\n",
    "- Targets placeholder\n",
    "- Learning Rate placeholder\n",
    "\n",
    "Return the placeholders in the following the tuple `(Input, Targets, LearingRate)`"
   ]
  },
  {
   "cell_type": "code",
   "execution_count": 2,
   "metadata": {
    "collapsed": false,
    "deletable": true,
    "editable": true
   },
   "outputs": [
    {
     "name": "stdout",
     "output_type": "stream",
     "text": [
      "Tests Passed\n"
     ]
    }
   ],
   "source": [
    "import tensorflow as tf\n",
    "\n",
    "def get_inputs():\n",
    "    \"\"\"\n",
    "    Create TF Placeholders for input, targets, and learning rate.\n",
    "    :return: Tuple (input, targets, learning rate)\n",
    "    \"\"\"\n",
    "    # TODO: Implement Function\n",
    "    inputs = tf.placeholder(tf.int32, [None, None], name=\"input\")\n",
    "    targets = tf.placeholder(tf.int32, [None, None], name=\"targets\")\n",
    "    lr = tf.placeholder(tf.float32, name=\"learning_rate\")\n",
    "    return inputs, targets, lr\n",
    "\n",
    "\n",
    "\"\"\"\n",
    "DON'T MODIFY ANYTHING IN THIS CELL THAT IS BELOW THIS LINE\n",
    "\"\"\"\n",
    "tests.test_get_inputs(get_inputs)"
   ]
  },
  {
   "cell_type": "markdown",
   "metadata": {
    "deletable": true,
    "editable": true
   },
   "source": [
    "### Build RNN Cell and Initialize\n",
    "Stack one or more [`BasicLSTMCells`](https://www.tensorflow.org/api_docs/python/tf/contrib/rnn/BasicLSTMCell) in a [`MultiRNNCell`](https://www.tensorflow.org/api_docs/python/tf/contrib/rnn/MultiRNNCell).\n",
    "- The Rnn size should be set using `rnn_size`\n",
    "- Initalize Cell State using the MultiRNNCell's [`zero_state()`](https://www.tensorflow.org/api_docs/python/tf/contrib/rnn/MultiRNNCell#zero_state) function\n",
    "    - Apply the name \"initial_state\" to the initial state using [`tf.identity()`](https://www.tensorflow.org/api_docs/python/tf/identity)\n",
    "\n",
    "Return the cell and initial state in the following tuple `(Cell, InitialState)`"
   ]
  },
  {
   "cell_type": "code",
   "execution_count": 3,
   "metadata": {
    "collapsed": false,
    "deletable": true,
    "editable": true
   },
   "outputs": [
    {
     "name": "stdout",
     "output_type": "stream",
     "text": [
      "Tests Passed\n"
     ]
    }
   ],
   "source": [
    "def get_init_cell(batch_size, rnn_size):\n",
    "    \"\"\"\n",
    "    Create an RNN Cell and initialize it.\n",
    "    :param batch_size: Size of batches\n",
    "    :param rnn_size: Size of RNNs\n",
    "    :return: Tuple (cell, initialize state)\n",
    "    \"\"\"\n",
    "    # TODO: Implement Function\n",
    "    lstm = tf.contrib.rnn.BasicLSTMCell(rnn_size, state_is_tuple=True)\n",
    "    stacked_lstm = tf.contrib.rnn.MultiRNNCell([lstm]*3, state_is_tuple = True)\n",
    "    \n",
    "    initial_state = state = stacked_lstm.zero_state(batch_size, tf.float32)\n",
    "    \n",
    "    init_state = tf.identity(initial_state, name = \"initial_state\")\n",
    "    \n",
    "#     print(\"get_init_cell \\t:\", stacked_lstm, init_state)\n",
    "    return stacked_lstm, init_state\n",
    "\n",
    "\n",
    "\"\"\"\n",
    "DON'T MODIFY ANYTHING IN THIS CELL THAT IS BELOW THIS LINE\n",
    "\"\"\"\n",
    "tests.test_get_init_cell(get_init_cell)"
   ]
  },
  {
   "cell_type": "markdown",
   "metadata": {
    "deletable": true,
    "editable": true
   },
   "source": [
    "### Word Embedding\n",
    "Apply embedding to `input_data` using TensorFlow.  Return the embedded sequence."
   ]
  },
  {
   "cell_type": "code",
   "execution_count": 4,
   "metadata": {
    "collapsed": false,
    "deletable": true,
    "editable": true
   },
   "outputs": [
    {
     "name": "stdout",
     "output_type": "stream",
     "text": [
      "Tests Passed\n"
     ]
    }
   ],
   "source": [
    "def get_embed(input_data, vocab_size, embed_dim):\n",
    "    \"\"\"\n",
    "    Create embedding for <input_data>.\n",
    "    :param input_data: TF placeholder for text input.\n",
    "    :param vocab_size: Number of words in vocabulary.\n",
    "    :param embed_dim: Number of embedding dimensions\n",
    "    :return: Embedded input.\n",
    "    \"\"\"\n",
    "    embedding = tf.Variable(\n",
    "    tf.random_uniform([vocab_size, embed_dim], -1.0, 1.0))\n",
    "    \n",
    "    embed = tf.nn.embedding_lookup(embedding, input_data)\n",
    "#     print(\"get_embed \\t:\", embed)\n",
    "    return embed\n",
    "\n",
    "\n",
    "\"\"\"\n",
    "DON'T MODIFY ANYTHING IN THIS CELL THAT IS BELOW THIS LINE\n",
    "\"\"\"\n",
    "tests.test_get_embed(get_embed)"
   ]
  },
  {
   "cell_type": "markdown",
   "metadata": {
    "deletable": true,
    "editable": true
   },
   "source": [
    "### Build RNN\n",
    "You created a RNN Cell in the `get_init_cell()` function.  Time to use the cell to create a RNN.\n",
    "- Build the RNN using the [`tf.nn.dynamic_rnn()`](https://www.tensorflow.org/api_docs/python/tf/nn/dynamic_rnn)\n",
    " - Apply the name \"final_state\" to the final state using [`tf.identity()`](https://www.tensorflow.org/api_docs/python/tf/identity)\n",
    "\n",
    "Return the outputs and final_state state in the following tuple `(Outputs, FinalState)` "
   ]
  },
  {
   "cell_type": "code",
   "execution_count": 5,
   "metadata": {
    "collapsed": false,
    "deletable": true,
    "editable": true
   },
   "outputs": [
    {
     "name": "stdout",
     "output_type": "stream",
     "text": [
      "Tests Passed\n"
     ]
    }
   ],
   "source": [
    "def build_rnn(cell, inputs):\n",
    "    \"\"\"\n",
    "    Create a RNN using a RNN Cell\n",
    "    :param cell: RNN Cell\n",
    "    :param inputs: Input text data\n",
    "    :return: Tuple (Outputs, Final State)\n",
    "    \"\"\"\n",
    "    # TODO: Implement Function\n",
    "    outputs, last_state = tf.nn.dynamic_rnn(cell=cell, inputs=inputs, dtype=tf.float32)\n",
    "    \n",
    "    fs = tf.identity(last_state, name=\"final_state\")\n",
    "#     print(\"build_rnn \\t:\", outputs,fs)\n",
    "    return outputs, fs\n",
    "\n",
    "\n",
    "\"\"\"\n",
    "DON'T MODIFY ANYTHING IN THIS CELL THAT IS BELOW THIS LINE\n",
    "\"\"\"\n",
    "tests.test_build_rnn(build_rnn)"
   ]
  },
  {
   "cell_type": "markdown",
   "metadata": {
    "deletable": true,
    "editable": true
   },
   "source": [
    "### Build the Neural Network\n",
    "Apply the functions you implemented above to:\n",
    "- Apply embedding to `input_data` using your `get_embed(input_data, vocab_size, embed_dim)` function.\n",
    "- Build RNN using `cell` and your `build_rnn(cell, inputs)` function.\n",
    "- Apply a fully connected layer with a linear activation and `vocab_size` as the number of outputs.\n",
    "\n",
    "Return the logits and final state in the following tuple (Logits, FinalState) "
   ]
  },
  {
   "cell_type": "code",
   "execution_count": 6,
   "metadata": {
    "collapsed": false,
    "deletable": true,
    "editable": true
   },
   "outputs": [
    {
     "name": "stdout",
     "output_type": "stream",
     "text": [
      "Tests Passed\n"
     ]
    }
   ],
   "source": [
    "def build_nn(cell, rnn_size, input_data, vocab_size):\n",
    "    \"\"\"\n",
    "    Build part of the neural network\n",
    "    :param cell: RNN cell\n",
    "    :param rnn_size: Size of rnns\n",
    "    :param input_data: Input data\n",
    "    :param vocab_size: Vocabulary size\n",
    "    :return: Tuple (Logits, FinalState)\n",
    "    \"\"\"\n",
    "    # TODO: Implement Function\n",
    "    embed_size = 300\n",
    "#     print(input_data, rnn_size)\n",
    "    embed = get_embed(input_data, vocab_size, embed_size)\n",
    "    \n",
    "    out, fs_rnn = build_rnn(cell, embed)\n",
    "    \n",
    "#     reshaped_output = tf.reshape(out, [-1, rnn_size])\n",
    "#     print(\"output_shape\", reshaped_output.shape.as_list())\n",
    "#     weights = tf.Variable(tf.truncated_normal((rnn_size,vocab_size), stddev = 0.1))\n",
    "# #     print(\"\\npasspass\\t\", weights)\n",
    "    \n",
    "#     bias = tf.Variable(tf.zeros(vocab_size))\n",
    "# #     print(\"\\npasspass\\t\", bias)\n",
    "        \n",
    "#     logits = (tf.add(tf.matmul(reshaped_output, weights), bias))\n",
    "\n",
    "#     print(tf.reshape(logits, [None, None, rnn_size]))\n",
    "                                \n",
    "#     print(\"build_nn \\t:\", logits, fs_rnn)     \n",
    "\n",
    "    logits = tf.layers.dense(inputs=out, units=vocab_size)\n",
    "\n",
    "\n",
    "    return logits, fs_rnn\n",
    "\n",
    "\n",
    "\"\"\"\n",
    "DON'T MODIFY ANYTHING IN THIS CELL THAT IS BELOW THIS LINE\n",
    "\"\"\"\n",
    "tests.test_build_nn(build_nn)"
   ]
  },
  {
   "cell_type": "markdown",
   "metadata": {
    "deletable": true,
    "editable": true
   },
   "source": [
    "### Batches\n",
    "Implement `get_batches` to create batches of input and targets using `int_text`.  The batches should be a Numpy array with the shape `(number of batches, 2, batch size, sequence length)`. Each batch contains two elements:\n",
    "- The first element is a single batch of **input** with the shape `[batch size, sequence length]`\n",
    "- The second element is a single batch of **targets** with the shape `[batch size, sequence length]`\n",
    "\n",
    "If you can't fill the last batch with enough data, drop the last batch.\n",
    "\n",
    "For exmple, `get_batches([1, 2, 3, 4, 5, 6, 7, 8, 9, 10, 11, 12, 13, 14, 15], 2, 3)` would return a Numpy array of the following:\n",
    "```\n",
    "[\n",
    "  # First Batch\n",
    "  [\n",
    "    # Batch of Input\n",
    "    [[ 1  2  3], [ 7  8  9]],\n",
    "    # Batch of targets\n",
    "    [[ 2  3  4], [ 8  9 10]]\n",
    "  ],\n",
    " \n",
    "  # Second Batch\n",
    "  [\n",
    "    # Batch of Input\n",
    "    [[ 4  5  6], [10 11 12]],\n",
    "    # Batch of targets\n",
    "    [[ 5  6  7], [11 12 13]]\n",
    "  ]\n",
    "]\n",
    "```"
   ]
  },
  {
   "cell_type": "code",
   "execution_count": 7,
   "metadata": {
    "collapsed": false,
    "deletable": true,
    "editable": true
   },
   "outputs": [
    {
     "name": "stdout",
     "output_type": "stream",
     "text": [
      "Tests Passed\n"
     ]
    }
   ],
   "source": [
    "def get_batches(int_text, batch_size, seq_length):\n",
    "    \"\"\"\n",
    "    Return batches of input and target\n",
    "    :param int_text: Text with the words replaced by their ids\n",
    "    :param batch_size: The size of batch\n",
    "    :param seq_length: The length of sequence\n",
    "    :return: Batches as a Numpy array\n",
    "    \"\"\"\n",
    "    # TODO: Implement Function\n",
    "#     print(batch_size*seq_length)\n",
    "    num_batches = len(int_text)//(batch_size*seq_length)\n",
    "#     print(len(int_text))\n",
    "#     print(num_batches, seq_length)\n",
    "    req_data_len = num_batches*batch_size*seq_length\n",
    "    int_text_arr = np.array(int_text[:req_data_len])\n",
    "    out_text_arr = np.array(int_text[1:req_data_len+1])\n",
    "#     int_text_arr = np.array(int_text)\n",
    "#     out_text_arr = np.array(out_text)\n",
    "    reshaped_int_text = int_text_arr.reshape(batch_size*num_batches,seq_length)\n",
    "    reshaped_out_text = out_text_arr.reshape(batch_size*num_batches, seq_length)\n",
    "#     print(reshaped_int_text,\"\\n\\n\", reshaped_out_text.shape)\n",
    "    \n",
    "    output = []\n",
    "    for i in range(0, num_batches*batch_size, batch_size):\n",
    "        batch = []\n",
    "        input_batch = []   \n",
    "        target_batch = []\n",
    "        for j in range(batch_size):\n",
    "            input_batch.append(list(reshaped_int_text[i+j,:]))\n",
    "            target_batch.append(list(reshaped_out_text[i+j,:]))\n",
    "        batch.append(input_batch)\n",
    "        batch.append(target_batch)\n",
    "#         print(\"batch\", batch)\n",
    "        output.append(batch)\n",
    "#         print(\"output\", output)\n",
    "    \n",
    "    return np.array(output)\n",
    "\n",
    "\n",
    "\"\"\"\n",
    "DON'T MODIFY ANYTHING IN THIS CELL THAT IS BELOW THIS LINE\n",
    "\"\"\"\n",
    "tests.test_get_batches(get_batches)"
   ]
  },
  {
   "cell_type": "markdown",
   "metadata": {
    "deletable": true,
    "editable": true
   },
   "source": [
    "## Neural Network Training\n",
    "### Hyperparameters\n",
    "Tune the following parameters:\n",
    "\n",
    "- Set `num_epochs` to the number of epochs.\n",
    "- Set `batch_size` to the batch size.\n",
    "- Set `rnn_size` to the size of the RNNs.\n",
    "- Set `seq_length` to the length of sequence.\n",
    "- Set `learning_rate` to the learning rate.\n",
    "- Set `show_every_n_batches` to the number of batches the neural network should print progress."
   ]
  },
  {
   "cell_type": "code",
   "execution_count": 13,
   "metadata": {
    "collapsed": true,
    "deletable": true,
    "editable": true
   },
   "outputs": [],
   "source": [
    "# Number of Epochs\n",
    "num_epochs = 250\n",
    "# Batch Size\n",
    "batch_size = 128\n",
    "# RNN Size\n",
    "rnn_size = 256\n",
    "# Sequence Length\n",
    "seq_length = 20\n",
    "# Learning Rate\n",
    "learning_rate = 0.001\n",
    "# Show stats for every n number of batches\n",
    "show_every_n_batches = 15\n",
    "\n",
    "\"\"\"\n",
    "DON'T MODIFY ANYTHING IN THIS CELL THAT IS BELOW THIS LINE\n",
    "\"\"\"\n",
    "save_dir = './save'"
   ]
  },
  {
   "cell_type": "markdown",
   "metadata": {
    "deletable": true,
    "editable": true
   },
   "source": [
    "### Build the Graph\n",
    "Build the graph using the neural network you implemented."
   ]
  },
  {
   "cell_type": "code",
   "execution_count": 14,
   "metadata": {
    "collapsed": false,
    "deletable": true,
    "editable": true
   },
   "outputs": [],
   "source": [
    "\"\"\"\n",
    "DON'T MODIFY ANYTHING IN THIS CELL\n",
    "\"\"\"\n",
    "from tensorflow.contrib import seq2seq\n",
    "\n",
    "train_graph = tf.Graph()\n",
    "with train_graph.as_default():\n",
    "    vocab_size = len(int_to_vocab)\n",
    "    input_text, targets, lr = get_inputs()\n",
    "    input_data_shape = tf.shape(input_text)\n",
    "    cell, initial_state = get_init_cell(input_data_shape[0], rnn_size)\n",
    "    logits, final_state = build_nn(cell, rnn_size, input_text, vocab_size)\n",
    "\n",
    "    # Probabilities for generating words\n",
    "    probs = tf.nn.softmax(logits, name='probs')\n",
    "\n",
    "    # Loss function\n",
    "    cost = seq2seq.sequence_loss(\n",
    "        logits,\n",
    "        targets,\n",
    "        tf.ones([input_data_shape[0], input_data_shape[1]]))\n",
    "\n",
    "    # Optimizer\n",
    "    optimizer = tf.train.AdamOptimizer(lr)\n",
    "\n",
    "    # Gradient Clipping\n",
    "    gradients = optimizer.compute_gradients(cost)\n",
    "    capped_gradients = [(tf.clip_by_value(grad, -1., 1.), var) for grad, var in gradients]\n",
    "    train_op = optimizer.apply_gradients(capped_gradients)"
   ]
  },
  {
   "cell_type": "markdown",
   "metadata": {
    "deletable": true,
    "editable": true
   },
   "source": [
    "## Train\n",
    "Train the neural network on the preprocessed data.  If you have a hard time getting a good loss, check the [forms](https://discussions.udacity.com/) to see if anyone is having the same problem."
   ]
  },
  {
   "cell_type": "code",
   "execution_count": 15,
   "metadata": {
    "collapsed": false,
    "deletable": true,
    "editable": true
   },
   "outputs": [
    {
     "name": "stdout",
     "output_type": "stream",
     "text": [
      "Epoch   0 Batch    0/26   train_loss = 8.822\n",
      "Epoch   0 Batch   15/26   train_loss = 6.407\n",
      "Epoch   1 Batch    4/26   train_loss = 6.221\n",
      "Epoch   1 Batch   19/26   train_loss = 6.217\n",
      "Epoch   2 Batch    8/26   train_loss = 6.048\n",
      "Epoch   2 Batch   23/26   train_loss = 5.934\n",
      "Epoch   3 Batch   12/26   train_loss = 5.986\n",
      "Epoch   4 Batch    1/26   train_loss = 6.102\n",
      "Epoch   4 Batch   16/26   train_loss = 6.057\n",
      "Epoch   5 Batch    5/26   train_loss = 5.993\n",
      "Epoch   5 Batch   20/26   train_loss = 6.044\n",
      "Epoch   6 Batch    9/26   train_loss = 5.830\n",
      "Epoch   6 Batch   24/26   train_loss = 6.084\n",
      "Epoch   7 Batch   13/26   train_loss = 6.028\n",
      "Epoch   8 Batch    2/26   train_loss = 5.814\n",
      "Epoch   8 Batch   17/26   train_loss = 6.032\n",
      "Epoch   9 Batch    6/26   train_loss = 5.988\n",
      "Epoch   9 Batch   21/26   train_loss = 6.140\n",
      "Epoch  10 Batch   10/26   train_loss = 5.845\n",
      "Epoch  10 Batch   25/26   train_loss = 6.036\n",
      "Epoch  11 Batch   14/26   train_loss = 5.950\n",
      "Epoch  12 Batch    3/26   train_loss = 5.897\n",
      "Epoch  12 Batch   18/26   train_loss = 6.006\n",
      "Epoch  13 Batch    7/26   train_loss = 5.916\n",
      "Epoch  13 Batch   22/26   train_loss = 6.184\n",
      "Epoch  14 Batch   11/26   train_loss = 5.888\n",
      "Epoch  15 Batch    0/26   train_loss = 5.881\n",
      "Epoch  15 Batch   15/26   train_loss = 6.018\n",
      "Epoch  16 Batch    4/26   train_loss = 5.958\n",
      "Epoch  16 Batch   19/26   train_loss = 6.133\n",
      "Epoch  17 Batch    8/26   train_loss = 5.989\n",
      "Epoch  17 Batch   23/26   train_loss = 5.887\n",
      "Epoch  18 Batch   12/26   train_loss = 5.942\n",
      "Epoch  19 Batch    1/26   train_loss = 6.061\n",
      "Epoch  19 Batch   16/26   train_loss = 6.027\n",
      "Epoch  20 Batch    5/26   train_loss = 5.971\n",
      "Epoch  20 Batch   20/26   train_loss = 6.019\n",
      "Epoch  21 Batch    9/26   train_loss = 5.808\n",
      "Epoch  21 Batch   24/26   train_loss = 6.060\n",
      "Epoch  22 Batch   13/26   train_loss = 6.002\n",
      "Epoch  23 Batch    2/26   train_loss = 5.789\n",
      "Epoch  23 Batch   17/26   train_loss = 5.985\n",
      "Epoch  24 Batch    6/26   train_loss = 5.910\n",
      "Epoch  24 Batch   21/26   train_loss = 6.035\n",
      "Epoch  25 Batch   10/26   train_loss = 5.695\n",
      "Epoch  25 Batch   25/26   train_loss = 5.879\n",
      "Epoch  26 Batch   14/26   train_loss = 5.773\n",
      "Epoch  27 Batch    3/26   train_loss = 5.712\n",
      "Epoch  27 Batch   18/26   train_loss = 5.800\n",
      "Epoch  28 Batch    7/26   train_loss = 5.699\n",
      "Epoch  28 Batch   22/26   train_loss = 5.974\n",
      "Epoch  29 Batch   11/26   train_loss = 5.624\n",
      "Epoch  30 Batch    0/26   train_loss = 5.628\n",
      "Epoch  30 Batch   15/26   train_loss = 5.757\n",
      "Epoch  31 Batch    4/26   train_loss = 5.677\n",
      "Epoch  31 Batch   19/26   train_loss = 5.847\n",
      "Epoch  32 Batch    8/26   train_loss = 5.694\n",
      "Epoch  32 Batch   23/26   train_loss = 5.573\n",
      "Epoch  33 Batch   12/26   train_loss = 5.592\n",
      "Epoch  34 Batch    1/26   train_loss = 5.734\n",
      "Epoch  34 Batch   16/26   train_loss = 5.672\n",
      "Epoch  35 Batch    5/26   train_loss = 5.597\n",
      "Epoch  35 Batch   20/26   train_loss = 5.664\n",
      "Epoch  36 Batch    9/26   train_loss = 5.410\n",
      "Epoch  36 Batch   24/26   train_loss = 5.636\n",
      "Epoch  37 Batch   13/26   train_loss = 5.526\n",
      "Epoch  38 Batch    2/26   train_loss = 5.312\n",
      "Epoch  38 Batch   17/26   train_loss = 5.471\n",
      "Epoch  39 Batch    6/26   train_loss = 5.385\n",
      "Epoch  39 Batch   21/26   train_loss = 5.520\n",
      "Epoch  40 Batch   10/26   train_loss = 5.134\n",
      "Epoch  40 Batch   25/26   train_loss = 5.315\n",
      "Epoch  41 Batch   14/26   train_loss = 5.202\n",
      "Epoch  42 Batch    3/26   train_loss = 5.131\n",
      "Epoch  42 Batch   18/26   train_loss = 5.212\n",
      "Epoch  43 Batch    7/26   train_loss = 5.008\n",
      "Epoch  43 Batch   22/26   train_loss = 5.326\n",
      "Epoch  44 Batch   11/26   train_loss = 4.914\n",
      "Epoch  45 Batch    0/26   train_loss = 4.912\n",
      "Epoch  45 Batch   15/26   train_loss = 5.012\n",
      "Epoch  46 Batch    4/26   train_loss = 4.933\n",
      "Epoch  46 Batch   19/26   train_loss = 5.068\n",
      "Epoch  47 Batch    8/26   train_loss = 4.911\n",
      "Epoch  47 Batch   23/26   train_loss = 4.790\n",
      "Epoch  48 Batch   12/26   train_loss = 4.746\n",
      "Epoch  49 Batch    1/26   train_loss = 4.908\n",
      "Epoch  49 Batch   16/26   train_loss = 4.811\n",
      "Epoch  50 Batch    5/26   train_loss = 4.732\n",
      "Epoch  50 Batch   20/26   train_loss = 4.854\n",
      "Epoch  51 Batch    9/26   train_loss = 4.564\n",
      "Epoch  51 Batch   24/26   train_loss = 4.822\n",
      "Epoch  52 Batch   13/26   train_loss = 4.703\n",
      "Epoch  53 Batch    2/26   train_loss = 4.538\n",
      "Epoch  53 Batch   17/26   train_loss = 4.642\n",
      "Epoch  54 Batch    6/26   train_loss = 4.599\n",
      "Epoch  54 Batch   21/26   train_loss = 4.698\n",
      "Epoch  55 Batch   10/26   train_loss = 4.384\n",
      "Epoch  55 Batch   25/26   train_loss = 4.570\n",
      "Epoch  56 Batch   14/26   train_loss = 4.480\n",
      "Epoch  57 Batch    3/26   train_loss = 4.445\n",
      "Epoch  57 Batch   18/26   train_loss = 4.513\n",
      "Epoch  58 Batch    7/26   train_loss = 4.346\n",
      "Epoch  58 Batch   22/26   train_loss = 4.651\n",
      "Epoch  59 Batch   11/26   train_loss = 4.358\n",
      "Epoch  60 Batch    0/26   train_loss = 4.320\n",
      "Epoch  60 Batch   15/26   train_loss = 4.451\n",
      "Epoch  61 Batch    4/26   train_loss = 4.374\n",
      "Epoch  61 Batch   19/26   train_loss = 4.481\n",
      "Epoch  62 Batch    8/26   train_loss = 4.327\n",
      "Epoch  62 Batch   23/26   train_loss = 4.237\n",
      "Epoch  63 Batch   12/26   train_loss = 4.198\n",
      "Epoch  64 Batch    1/26   train_loss = 4.309\n",
      "Epoch  64 Batch   16/26   train_loss = 4.252\n",
      "Epoch  65 Batch    5/26   train_loss = 4.203\n",
      "Epoch  65 Batch   20/26   train_loss = 4.336\n",
      "Epoch  66 Batch    9/26   train_loss = 4.157\n",
      "Epoch  66 Batch   24/26   train_loss = 4.297\n",
      "Epoch  67 Batch   13/26   train_loss = 4.304\n",
      "Epoch  68 Batch    2/26   train_loss = 4.091\n",
      "Epoch  68 Batch   17/26   train_loss = 4.170\n",
      "Epoch  69 Batch    6/26   train_loss = 4.123\n",
      "Epoch  69 Batch   21/26   train_loss = 4.149\n",
      "Epoch  70 Batch   10/26   train_loss = 3.912\n",
      "Epoch  70 Batch   25/26   train_loss = 4.049\n",
      "Epoch  71 Batch   14/26   train_loss = 4.007\n",
      "Epoch  72 Batch    3/26   train_loss = 3.965\n",
      "Epoch  72 Batch   18/26   train_loss = 4.005\n",
      "Epoch  73 Batch    7/26   train_loss = 3.860\n",
      "Epoch  73 Batch   22/26   train_loss = 4.162\n",
      "Epoch  74 Batch   11/26   train_loss = 3.861\n",
      "Epoch  75 Batch    0/26   train_loss = 3.859\n",
      "Epoch  75 Batch   15/26   train_loss = 3.917\n",
      "Epoch  76 Batch    4/26   train_loss = 3.884\n",
      "Epoch  76 Batch   19/26   train_loss = 3.980\n",
      "Epoch  77 Batch    8/26   train_loss = 3.839\n",
      "Epoch  77 Batch   23/26   train_loss = 3.821\n",
      "Epoch  78 Batch   12/26   train_loss = 3.790\n",
      "Epoch  79 Batch    1/26   train_loss = 3.885\n",
      "Epoch  79 Batch   16/26   train_loss = 3.809\n",
      "Epoch  80 Batch    5/26   train_loss = 3.811\n",
      "Epoch  80 Batch   20/26   train_loss = 3.920\n",
      "Epoch  81 Batch    9/26   train_loss = 3.772\n",
      "Epoch  81 Batch   24/26   train_loss = 3.836\n",
      "Epoch  82 Batch   13/26   train_loss = 3.835\n",
      "Epoch  83 Batch    2/26   train_loss = 3.672\n",
      "Epoch  83 Batch   17/26   train_loss = 3.750\n",
      "Epoch  84 Batch    6/26   train_loss = 3.702\n",
      "Epoch  84 Batch   21/26   train_loss = 3.744\n",
      "Epoch  85 Batch   10/26   train_loss = 3.556\n",
      "Epoch  85 Batch   25/26   train_loss = 3.672\n",
      "Epoch  86 Batch   14/26   train_loss = 3.629\n",
      "Epoch  87 Batch    3/26   train_loss = 3.647\n",
      "Epoch  87 Batch   18/26   train_loss = 3.654\n",
      "Epoch  88 Batch    7/26   train_loss = 3.606\n",
      "Epoch  88 Batch   22/26   train_loss = 3.777\n",
      "Epoch  89 Batch   11/26   train_loss = 3.579\n",
      "Epoch  90 Batch    0/26   train_loss = 3.523\n",
      "Epoch  90 Batch   15/26   train_loss = 3.587\n",
      "Epoch  91 Batch    4/26   train_loss = 3.534\n",
      "Epoch  91 Batch   19/26   train_loss = 3.595\n",
      "Epoch  92 Batch    8/26   train_loss = 3.521\n",
      "Epoch  92 Batch   23/26   train_loss = 3.523\n",
      "Epoch  93 Batch   12/26   train_loss = 3.500\n",
      "Epoch  94 Batch    1/26   train_loss = 3.547\n",
      "Epoch  94 Batch   16/26   train_loss = 3.483\n",
      "Epoch  95 Batch    5/26   train_loss = 3.457\n",
      "Epoch  95 Batch   20/26   train_loss = 3.544\n",
      "Epoch  96 Batch    9/26   train_loss = 3.408\n",
      "Epoch  96 Batch   24/26   train_loss = 3.424\n",
      "Epoch  97 Batch   13/26   train_loss = 3.478\n",
      "Epoch  98 Batch    2/26   train_loss = 3.375\n",
      "Epoch  98 Batch   17/26   train_loss = 3.401\n",
      "Epoch  99 Batch    6/26   train_loss = 3.395\n",
      "Epoch  99 Batch   21/26   train_loss = 3.375\n",
      "Epoch 100 Batch   10/26   train_loss = 3.266\n",
      "Epoch 100 Batch   25/26   train_loss = 3.330\n",
      "Epoch 101 Batch   14/26   train_loss = 3.261\n",
      "Epoch 102 Batch    3/26   train_loss = 3.285\n",
      "Epoch 102 Batch   18/26   train_loss = 3.297\n",
      "Epoch 103 Batch    7/26   train_loss = 3.211\n",
      "Epoch 103 Batch   22/26   train_loss = 3.449\n",
      "Epoch 104 Batch   11/26   train_loss = 3.192\n",
      "Epoch 105 Batch    0/26   train_loss = 3.206\n",
      "Epoch 105 Batch   15/26   train_loss = 3.196\n",
      "Epoch 106 Batch    4/26   train_loss = 3.163\n",
      "Epoch 106 Batch   19/26   train_loss = 3.193\n",
      "Epoch 107 Batch    8/26   train_loss = 3.064\n",
      "Epoch 107 Batch   23/26   train_loss = 3.116\n",
      "Epoch 108 Batch   12/26   train_loss = 3.083\n",
      "Epoch 109 Batch    1/26   train_loss = 3.110\n",
      "Epoch 109 Batch   16/26   train_loss = 3.055\n",
      "Epoch 110 Batch    5/26   train_loss = 3.059\n",
      "Epoch 110 Batch   20/26   train_loss = 3.160\n",
      "Epoch 111 Batch    9/26   train_loss = 3.075\n",
      "Epoch 111 Batch   24/26   train_loss = 3.016\n",
      "Epoch 112 Batch   13/26   train_loss = 3.116\n",
      "Epoch 113 Batch    2/26   train_loss = 3.016\n",
      "Epoch 113 Batch   17/26   train_loss = 2.999\n",
      "Epoch 114 Batch    6/26   train_loss = 3.034\n",
      "Epoch 114 Batch   21/26   train_loss = 2.977\n",
      "Epoch 115 Batch   10/26   train_loss = 2.956\n",
      "Epoch 115 Batch   25/26   train_loss = 2.953\n",
      "Epoch 116 Batch   14/26   train_loss = 2.919\n",
      "Epoch 117 Batch    3/26   train_loss = 2.975\n",
      "Epoch 117 Batch   18/26   train_loss = 2.931\n",
      "Epoch 118 Batch    7/26   train_loss = 2.909\n",
      "Epoch 118 Batch   22/26   train_loss = 3.064\n",
      "Epoch 119 Batch   11/26   train_loss = 2.915\n",
      "Epoch 120 Batch    0/26   train_loss = 2.888\n",
      "Epoch 120 Batch   15/26   train_loss = 2.915\n",
      "Epoch 121 Batch    4/26   train_loss = 2.848\n",
      "Epoch 121 Batch   19/26   train_loss = 2.871\n",
      "Epoch 122 Batch    8/26   train_loss = 2.776\n",
      "Epoch 122 Batch   23/26   train_loss = 2.831\n",
      "Epoch 123 Batch   12/26   train_loss = 2.820\n",
      "Epoch 124 Batch    1/26   train_loss = 2.801\n",
      "Epoch 124 Batch   16/26   train_loss = 2.784\n",
      "Epoch 125 Batch    5/26   train_loss = 2.766\n",
      "Epoch 125 Batch   20/26   train_loss = 2.900\n",
      "Epoch 126 Batch    9/26   train_loss = 2.791\n",
      "Epoch 126 Batch   24/26   train_loss = 2.747\n",
      "Epoch 127 Batch   13/26   train_loss = 2.834\n",
      "Epoch 128 Batch    2/26   train_loss = 2.758\n",
      "Epoch 128 Batch   17/26   train_loss = 2.752\n",
      "Epoch 129 Batch    6/26   train_loss = 2.796\n",
      "Epoch 129 Batch   21/26   train_loss = 2.725\n",
      "Epoch 130 Batch   10/26   train_loss = 2.749\n",
      "Epoch 130 Batch   25/26   train_loss = 2.757\n",
      "Epoch 131 Batch   14/26   train_loss = 2.697\n",
      "Epoch 132 Batch    3/26   train_loss = 2.741\n",
      "Epoch 132 Batch   18/26   train_loss = 2.688\n",
      "Epoch 133 Batch    7/26   train_loss = 2.690\n",
      "Epoch 133 Batch   22/26   train_loss = 2.836\n",
      "Epoch 134 Batch   11/26   train_loss = 2.768\n",
      "Epoch 135 Batch    0/26   train_loss = 2.770\n",
      "Epoch 135 Batch   15/26   train_loss = 2.753\n",
      "Epoch 136 Batch    4/26   train_loss = 2.698\n",
      "Epoch 136 Batch   19/26   train_loss = 2.658\n",
      "Epoch 137 Batch    8/26   train_loss = 2.564\n",
      "Epoch 137 Batch   23/26   train_loss = 2.602\n",
      "Epoch 138 Batch   12/26   train_loss = 2.542\n",
      "Epoch 139 Batch    1/26   train_loss = 2.501\n",
      "Epoch 139 Batch   16/26   train_loss = 2.472\n",
      "Epoch 140 Batch    5/26   train_loss = 2.521\n",
      "Epoch 140 Batch   20/26   train_loss = 2.633\n",
      "Epoch 141 Batch    9/26   train_loss = 2.589\n",
      "Epoch 141 Batch   24/26   train_loss = 2.490\n",
      "Epoch 142 Batch   13/26   train_loss = 2.543\n",
      "Epoch 143 Batch    2/26   train_loss = 2.493\n",
      "Epoch 143 Batch   17/26   train_loss = 2.375\n",
      "Epoch 144 Batch    6/26   train_loss = 2.417\n",
      "Epoch 144 Batch   21/26   train_loss = 2.302\n",
      "Epoch 145 Batch   10/26   train_loss = 2.352\n",
      "Epoch 145 Batch   25/26   train_loss = 2.353\n",
      "Epoch 146 Batch   14/26   train_loss = 2.272\n",
      "Epoch 147 Batch    3/26   train_loss = 2.359\n",
      "Epoch 147 Batch   18/26   train_loss = 2.230\n",
      "Epoch 148 Batch    7/26   train_loss = 2.229\n",
      "Epoch 148 Batch   22/26   train_loss = 2.305\n",
      "Epoch 149 Batch   11/26   train_loss = 2.221\n",
      "Epoch 150 Batch    0/26   train_loss = 2.267\n",
      "Epoch 150 Batch   15/26   train_loss = 2.215\n",
      "Epoch 151 Batch    4/26   train_loss = 2.244\n",
      "Epoch 151 Batch   19/26   train_loss = 2.187\n",
      "Epoch 152 Batch    8/26   train_loss = 2.192\n",
      "Epoch 152 Batch   23/26   train_loss = 2.208\n",
      "Epoch 153 Batch   12/26   train_loss = 2.178\n",
      "Epoch 154 Batch    1/26   train_loss = 2.122\n",
      "Epoch 154 Batch   16/26   train_loss = 2.088\n",
      "Epoch 155 Batch    5/26   train_loss = 2.136\n",
      "Epoch 155 Batch   20/26   train_loss = 2.245\n",
      "Epoch 156 Batch    9/26   train_loss = 2.220\n",
      "Epoch 156 Batch   24/26   train_loss = 2.131\n",
      "Epoch 157 Batch   13/26   train_loss = 2.220\n",
      "Epoch 158 Batch    2/26   train_loss = 2.215\n",
      "Epoch 158 Batch   17/26   train_loss = 2.141\n",
      "Epoch 159 Batch    6/26   train_loss = 2.187\n",
      "Epoch 159 Batch   21/26   train_loss = 2.097\n",
      "Epoch 160 Batch   10/26   train_loss = 2.164\n",
      "Epoch 160 Batch   25/26   train_loss = 2.155\n",
      "Epoch 161 Batch   14/26   train_loss = 2.104\n",
      "Epoch 162 Batch    3/26   train_loss = 2.125\n",
      "Epoch 162 Batch   18/26   train_loss = 2.060\n",
      "Epoch 163 Batch    7/26   train_loss = 2.021\n",
      "Epoch 163 Batch   22/26   train_loss = 2.115\n",
      "Epoch 164 Batch   11/26   train_loss = 2.043\n",
      "Epoch 165 Batch    0/26   train_loss = 2.077\n",
      "Epoch 165 Batch   15/26   train_loss = 1.981\n",
      "Epoch 166 Batch    4/26   train_loss = 1.970\n",
      "Epoch 166 Batch   19/26   train_loss = 1.916\n",
      "Epoch 167 Batch    8/26   train_loss = 1.933\n",
      "Epoch 167 Batch   23/26   train_loss = 1.995\n",
      "Epoch 168 Batch   12/26   train_loss = 2.036\n",
      "Epoch 169 Batch    1/26   train_loss = 1.921\n",
      "Epoch 169 Batch   16/26   train_loss = 1.927\n",
      "Epoch 170 Batch    5/26   train_loss = 1.886\n",
      "Epoch 170 Batch   20/26   train_loss = 1.960\n",
      "Epoch 171 Batch    9/26   train_loss = 1.989\n",
      "Epoch 171 Batch   24/26   train_loss = 1.844\n",
      "Epoch 172 Batch   13/26   train_loss = 2.030\n",
      "Epoch 173 Batch    2/26   train_loss = 2.098\n",
      "Epoch 173 Batch   17/26   train_loss = 2.040\n",
      "Epoch 174 Batch    6/26   train_loss = 2.111\n",
      "Epoch 174 Batch   21/26   train_loss = 1.986\n",
      "Epoch 175 Batch   10/26   train_loss = 2.074\n",
      "Epoch 175 Batch   25/26   train_loss = 1.991\n",
      "Epoch 176 Batch   14/26   train_loss = 1.969\n",
      "Epoch 177 Batch    3/26   train_loss = 1.945\n",
      "Epoch 177 Batch   18/26   train_loss = 1.843\n",
      "Epoch 178 Batch    7/26   train_loss = 1.834\n",
      "Epoch 178 Batch   22/26   train_loss = 1.899\n",
      "Epoch 179 Batch   11/26   train_loss = 1.888\n",
      "Epoch 180 Batch    0/26   train_loss = 1.912\n",
      "Epoch 180 Batch   15/26   train_loss = 1.839\n",
      "Epoch 181 Batch    4/26   train_loss = 1.804\n",
      "Epoch 181 Batch   19/26   train_loss = 1.709\n",
      "Epoch 182 Batch    8/26   train_loss = 1.715\n",
      "Epoch 182 Batch   23/26   train_loss = 1.735\n",
      "Epoch 183 Batch   12/26   train_loss = 1.715\n",
      "Epoch 184 Batch    1/26   train_loss = 1.629\n",
      "Epoch 184 Batch   16/26   train_loss = 1.565\n",
      "Epoch 185 Batch    5/26   train_loss = 1.599\n",
      "Epoch 185 Batch   20/26   train_loss = 1.651\n",
      "Epoch 186 Batch    9/26   train_loss = 1.696\n",
      "Epoch 186 Batch   24/26   train_loss = 1.527\n",
      "Epoch 187 Batch   13/26   train_loss = 1.622\n",
      "Epoch 188 Batch    2/26   train_loss = 1.650\n",
      "Epoch 188 Batch   17/26   train_loss = 1.512\n",
      "Epoch 189 Batch    6/26   train_loss = 1.624\n",
      "Epoch 189 Batch   21/26   train_loss = 1.489\n",
      "Epoch 190 Batch   10/26   train_loss = 1.651\n",
      "Epoch 190 Batch   25/26   train_loss = 1.564\n",
      "Epoch 191 Batch   14/26   train_loss = 1.558\n",
      "Epoch 192 Batch    3/26   train_loss = 1.607\n",
      "Epoch 192 Batch   18/26   train_loss = 1.496\n",
      "Epoch 193 Batch    7/26   train_loss = 1.544\n",
      "Epoch 193 Batch   22/26   train_loss = 1.527\n",
      "Epoch 194 Batch   11/26   train_loss = 1.624\n",
      "Epoch 195 Batch    0/26   train_loss = 1.584\n",
      "Epoch 195 Batch   15/26   train_loss = 1.549\n",
      "Epoch 196 Batch    4/26   train_loss = 1.563\n",
      "Epoch 196 Batch   19/26   train_loss = 1.495\n",
      "Epoch 197 Batch    8/26   train_loss = 1.557\n",
      "Epoch 197 Batch   23/26   train_loss = 1.641\n",
      "Epoch 198 Batch   12/26   train_loss = 1.599\n",
      "Epoch 199 Batch    1/26   train_loss = 1.577\n",
      "Epoch 199 Batch   16/26   train_loss = 1.479\n",
      "Epoch 200 Batch    5/26   train_loss = 1.542\n",
      "Epoch 200 Batch   20/26   train_loss = 1.576\n",
      "Epoch 201 Batch    9/26   train_loss = 1.585\n",
      "Epoch 201 Batch   24/26   train_loss = 1.440\n",
      "Epoch 202 Batch   13/26   train_loss = 1.509\n",
      "Epoch 203 Batch    2/26   train_loss = 1.580\n",
      "Epoch 203 Batch   17/26   train_loss = 1.532\n",
      "Epoch 204 Batch    6/26   train_loss = 1.634\n",
      "Epoch 204 Batch   21/26   train_loss = 1.647\n",
      "Epoch 205 Batch   10/26   train_loss = 1.811\n",
      "Epoch 205 Batch   25/26   train_loss = 1.782\n",
      "Epoch 206 Batch   14/26   train_loss = 1.793\n",
      "Epoch 207 Batch    3/26   train_loss = 1.789\n",
      "Epoch 207 Batch   18/26   train_loss = 1.624\n",
      "Epoch 208 Batch    7/26   train_loss = 1.592\n",
      "Epoch 208 Batch   22/26   train_loss = 1.551\n",
      "Epoch 209 Batch   11/26   train_loss = 1.540\n",
      "Epoch 210 Batch    0/26   train_loss = 1.500\n",
      "Epoch 210 Batch   15/26   train_loss = 1.397\n",
      "Epoch 211 Batch    4/26   train_loss = 1.402\n",
      "Epoch 211 Batch   19/26   train_loss = 1.317\n",
      "Epoch 212 Batch    8/26   train_loss = 1.333\n",
      "Epoch 212 Batch   23/26   train_loss = 1.336\n",
      "Epoch 213 Batch   12/26   train_loss = 1.319\n",
      "Epoch 214 Batch    1/26   train_loss = 1.242\n",
      "Epoch 214 Batch   16/26   train_loss = 1.176\n",
      "Epoch 215 Batch    5/26   train_loss = 1.226\n",
      "Epoch 215 Batch   20/26   train_loss = 1.253\n",
      "Epoch 216 Batch    9/26   train_loss = 1.335\n",
      "Epoch 216 Batch   24/26   train_loss = 1.160\n",
      "Epoch 217 Batch   13/26   train_loss = 1.225\n",
      "Epoch 218 Batch    2/26   train_loss = 1.275\n",
      "Epoch 218 Batch   17/26   train_loss = 1.125\n",
      "Epoch 219 Batch    6/26   train_loss = 1.222\n",
      "Epoch 219 Batch   21/26   train_loss = 1.121\n",
      "Epoch 220 Batch   10/26   train_loss = 1.234\n",
      "Epoch 220 Batch   25/26   train_loss = 1.166\n",
      "Epoch 221 Batch   14/26   train_loss = 1.139\n",
      "Epoch 222 Batch    3/26   train_loss = 1.172\n",
      "Epoch 222 Batch   18/26   train_loss = 1.080\n",
      "Epoch 223 Batch    7/26   train_loss = 1.090\n",
      "Epoch 223 Batch   22/26   train_loss = 1.078\n",
      "Epoch 224 Batch   11/26   train_loss = 1.125\n",
      "Epoch 225 Batch    0/26   train_loss = 1.142\n",
      "Epoch 225 Batch   15/26   train_loss = 1.068\n",
      "Epoch 226 Batch    4/26   train_loss = 1.090\n",
      "Epoch 226 Batch   19/26   train_loss = 1.029\n",
      "Epoch 227 Batch    8/26   train_loss = 1.082\n",
      "Epoch 227 Batch   23/26   train_loss = 1.098\n",
      "Epoch 228 Batch   12/26   train_loss = 1.110\n",
      "Epoch 229 Batch    1/26   train_loss = 1.044\n",
      "Epoch 229 Batch   16/26   train_loss = 0.993\n",
      "Epoch 230 Batch    5/26   train_loss = 1.057\n",
      "Epoch 230 Batch   20/26   train_loss = 1.064\n",
      "Epoch 231 Batch    9/26   train_loss = 1.154\n",
      "Epoch 231 Batch   24/26   train_loss = 0.977\n",
      "Epoch 232 Batch   13/26   train_loss = 1.059\n",
      "Epoch 233 Batch    2/26   train_loss = 1.139\n",
      "Epoch 233 Batch   17/26   train_loss = 1.012\n",
      "Epoch 234 Batch    6/26   train_loss = 1.105\n",
      "Epoch 234 Batch   21/26   train_loss = 1.050\n",
      "Epoch 235 Batch   10/26   train_loss = 1.142\n",
      "Epoch 235 Batch   25/26   train_loss = 1.095\n",
      "Epoch 236 Batch   14/26   train_loss = 1.053\n",
      "Epoch 237 Batch    3/26   train_loss = 1.091\n",
      "Epoch 237 Batch   18/26   train_loss = 0.979\n",
      "Epoch 238 Batch    7/26   train_loss = 0.984\n",
      "Epoch 238 Batch   22/26   train_loss = 0.992\n",
      "Epoch 239 Batch   11/26   train_loss = 1.042\n",
      "Epoch 240 Batch    0/26   train_loss = 1.083\n",
      "Epoch 240 Batch   15/26   train_loss = 1.035\n",
      "Epoch 241 Batch    4/26   train_loss = 1.045\n",
      "Epoch 241 Batch   19/26   train_loss = 0.955\n",
      "Epoch 242 Batch    8/26   train_loss = 1.016\n",
      "Epoch 242 Batch   23/26   train_loss = 0.998\n",
      "Epoch 243 Batch   12/26   train_loss = 1.006\n",
      "Epoch 244 Batch    1/26   train_loss = 0.963\n",
      "Epoch 244 Batch   16/26   train_loss = 0.907\n",
      "Epoch 245 Batch    5/26   train_loss = 1.009\n",
      "Epoch 245 Batch   20/26   train_loss = 0.996\n",
      "Epoch 246 Batch    9/26   train_loss = 1.125\n",
      "Epoch 246 Batch   24/26   train_loss = 0.912\n",
      "Epoch 247 Batch   13/26   train_loss = 0.960\n",
      "Epoch 248 Batch    2/26   train_loss = 1.056\n",
      "Epoch 248 Batch   17/26   train_loss = 0.894\n",
      "Epoch 249 Batch    6/26   train_loss = 1.047\n",
      "Epoch 249 Batch   21/26   train_loss = 0.922\n",
      "Model Trained and Saved\n"
     ]
    }
   ],
   "source": [
    "\"\"\"\n",
    "DON'T MODIFY ANYTHING IN THIS CELL\n",
    "\"\"\"\n",
    "batches = get_batches(int_text, batch_size, seq_length)\n",
    "\n",
    "with tf.Session(graph=train_graph) as sess:\n",
    "    sess.run(tf.global_variables_initializer())\n",
    "\n",
    "    for epoch_i in range(num_epochs):\n",
    "        state = sess.run(initial_state, {input_text: batches[0][0]})\n",
    "\n",
    "        for batch_i, (x, y) in enumerate(batches):\n",
    "            feed = {\n",
    "                input_text: x,\n",
    "                targets: y,\n",
    "                initial_state: state,\n",
    "                lr: learning_rate}\n",
    "            train_loss, state, _ = sess.run([cost, final_state, train_op], feed)\n",
    "\n",
    "            # Show every <show_every_n_batches> batches\n",
    "            if (epoch_i * len(batches) + batch_i) % show_every_n_batches == 0:\n",
    "                print('Epoch {:>3} Batch {:>4}/{}   train_loss = {:.3f}'.format(\n",
    "                    epoch_i,\n",
    "                    batch_i,\n",
    "                    len(batches),\n",
    "                    train_loss))\n",
    "\n",
    "    # Save Model\n",
    "    saver = tf.train.Saver()\n",
    "    saver.save(sess, save_dir)\n",
    "    print('Model Trained and Saved')"
   ]
  },
  {
   "cell_type": "markdown",
   "metadata": {
    "deletable": true,
    "editable": true
   },
   "source": [
    "## Save Parameters\n",
    "Save `seq_length` and `save_dir` for generating a new TV script."
   ]
  },
  {
   "cell_type": "code",
   "execution_count": 16,
   "metadata": {
    "collapsed": false,
    "deletable": true,
    "editable": true
   },
   "outputs": [],
   "source": [
    "\"\"\"\n",
    "DON'T MODIFY ANYTHING IN THIS CELL\n",
    "\"\"\"\n",
    "# Save parameters for checkpoint\n",
    "helper.save_params((seq_length, save_dir))"
   ]
  },
  {
   "cell_type": "markdown",
   "metadata": {
    "deletable": true,
    "editable": true
   },
   "source": [
    "# Checkpoint"
   ]
  },
  {
   "cell_type": "code",
   "execution_count": 17,
   "metadata": {
    "collapsed": false,
    "deletable": true,
    "editable": true
   },
   "outputs": [],
   "source": [
    "\"\"\"\n",
    "DON'T MODIFY ANYTHING IN THIS CELL\n",
    "\"\"\"\n",
    "import tensorflow as tf\n",
    "import numpy as np\n",
    "import helper\n",
    "import problem_unittests as tests\n",
    "\n",
    "_, vocab_to_int, int_to_vocab, token_dict = helper.load_preprocess()\n",
    "seq_length, load_dir = helper.load_params()"
   ]
  },
  {
   "cell_type": "markdown",
   "metadata": {
    "deletable": true,
    "editable": true
   },
   "source": [
    "## Implement Generate Functions\n",
    "### Get Tensors\n",
    "Get tensors from `loaded_graph` using the function [`get_tensor_by_name()`](https://www.tensorflow.org/api_docs/python/tf/Graph#get_tensor_by_name).  Get the tensors using the following names:\n",
    "- \"input:0\"\n",
    "- \"initial_state:0\"\n",
    "- \"final_state:0\"\n",
    "- \"probs:0\"\n",
    "\n",
    "Return the tensors in the following tuple `(InputTensor, InitialStateTensor, FinalStateTensor, ProbsTensor)` "
   ]
  },
  {
   "cell_type": "code",
   "execution_count": 18,
   "metadata": {
    "collapsed": false,
    "deletable": true,
    "editable": true
   },
   "outputs": [
    {
     "name": "stdout",
     "output_type": "stream",
     "text": [
      "Tests Passed\n"
     ]
    }
   ],
   "source": [
    "def get_tenors(loaded_graph):\n",
    "    \"\"\"\n",
    "    Get input, initial state, final state, and probabilities tensor from <loaded_graph>\n",
    "    :param loaded_graph: TensorFlow graph loaded from file\n",
    "    :return: Tuple (InputTensor, InitialStateTensor, FinalStateTensor, ProbsTensor)\n",
    "    \"\"\"\n",
    "    # TODO: Implement Function\n",
    "    input_tensor = loaded_graph.get_tensor_by_name(\"input:0\")\n",
    "    initial_state_tensor = loaded_graph.get_tensor_by_name(\"initial_state:0\")\n",
    "    final_state_tensor = loaded_graph.get_tensor_by_name(\"final_state:0\")\n",
    "    probs_tensor = loaded_graph.get_tensor_by_name(\"probs:0\")\n",
    "    return input_tensor, initial_state_tensor, final_state_tensor, probs_tensor\n",
    "\n",
    "\n",
    "\"\"\"\n",
    "DON'T MODIFY ANYTHING IN THIS CELL THAT IS BELOW THIS LINE\n",
    "\"\"\"\n",
    "tests.test_get_tenors(get_tenors)"
   ]
  },
  {
   "cell_type": "markdown",
   "metadata": {
    "deletable": true,
    "editable": true
   },
   "source": [
    "### Choose Word\n",
    "Implement the `pick_word()` function to select the next word using `probabilities`."
   ]
  },
  {
   "cell_type": "code",
   "execution_count": 19,
   "metadata": {
    "collapsed": false,
    "deletable": true,
    "editable": true
   },
   "outputs": [
    {
     "name": "stdout",
     "output_type": "stream",
     "text": [
      "Tests Passed\n"
     ]
    }
   ],
   "source": [
    "import random\n",
    "def pick_word(probabilities, int_to_vocab):\n",
    "    \"\"\"\n",
    "    Pick the next word in the generated text\n",
    "    :param probabilities: Probabilites of the next word\n",
    "    :param int_to_vocab: Dictionary of word ids as the keys and words as the values\n",
    "    :return: String of the predicted word\n",
    "    \"\"\"\n",
    "    # TODO: Implement Function\n",
    "    while True:\n",
    "        for i in range(len(probabilities)):\n",
    "            if probabilities[i] > random.random():\n",
    "                return int_to_vocab[i]\n",
    "\n",
    "\"\"\"\n",
    "DON'T MODIFY ANYTHING IN THIS CELL THAT IS BELOW THIS LINE\n",
    "\"\"\"\n",
    "tests.test_pick_word(pick_word)"
   ]
  },
  {
   "cell_type": "markdown",
   "metadata": {
    "deletable": true,
    "editable": true
   },
   "source": [
    "## Generate TV Script\n",
    "This will generate the TV script for you.  Set `gen_length` to the length of TV script you want to generate."
   ]
  },
  {
   "cell_type": "code",
   "execution_count": 21,
   "metadata": {
    "collapsed": false,
    "deletable": true,
    "editable": true
   },
   "outputs": [
    {
     "name": "stdout",
     "output_type": "stream",
     "text": [
      "homer_simpson: uh, play it! when you waltz for the breakdown of happened!\n",
      "moe_szyslak: all right, more at me.\n",
      "marge_simpson: ech is someone it bugging him on the breakdown of?\n",
      "homer_simpson: jebediah bucks?\n",
      "marge_simpson: all with the fire name!(gags, then) moe!(then sign sounds hair, clearly murmurs pretty by with the man / simpson down out of this, or he he ask me bumped cologne!\n",
      "fox_mulder: moe's\" business once\".\n",
      "lisa_simpson: now watch outta our son, i know if i am not home. let's really should had left to really state with it-- and you were good for me.\n",
      "bart_simpson: ho-la!\n",
      "anthony_kiedis: you told it, bad.\n",
      "homer_simpson: every good of the traitor ticket. you was a food expert.\n",
      "agnes_skinner: we were hooked for to take this friend.\n",
      "homer_simpson: hmmmm.\n",
      "homer_simpson: fellas, okay.\n",
      "moe_szyslak: yeah.\n",
      "moe_szyslak: yep. _kissingher: ha, i got a drunk-- i didn't not my wife for a crime where. you ain't whip a lot of his dad down for me.\n",
      "kent_brockman:(clapping) uh-huh...\n",
      "homer_simpson: you were gangrene... we stepped!\n",
      "carl_carlson: hello. if i don't want these marge you like flanders when baseball is that and i did.(old la!\n",
      "lenny_leonard: oh! i got me what this back-- homer... that's probably work with it is later.\n",
      "moe_szyslak: how only you took out as out before you are sports out here.\n",
      "artie_ziff:(sheepish) uh, boy, who am nothin'-- only like the kind of world who underpants things about these dank!\n",
      "hans:(thrilled) we guess laugh at a beer?\n",
      "barney_gumble: ow! _timothy_lovejoy: that's the peanuts?\n",
      "2nd_voice_on_transmitter: yeah, this hurts?\n",
      "homer_simpson: everybody. if i don't believe that?\n",
      "moe_szyslak:(hostile) aw, honey. freeze tonight repairman simpson!\n",
      "7-year-old_brockman: what is this is me? you're like your tremendous those lisa? we know i'd talkin' any!\n",
      "homer_simpson: some seconds-- i could get chilly day and where?...\n",
      "moe_szyslak: yeah! let it edison.\n",
      "\n",
      "\n",
      "homer_simpson:(excited) but they we very bed for my bar it down.\n",
      "moe_szyslak:(enthusiastically) oh, sounds? hide\" or i'll. like is that one!\n",
      "mrs. snake_jailbird: steal five-fifteen any guy i knew her it against.\n",
      "homer_simpson: goodnight, she's me now!(sigh) all deep something better can why only my name for.(young card) oh, friendship--\n"
     ]
    }
   ],
   "source": [
    "gen_length = 500\n",
    "# homer_simpson, moe_szyslak, or Barney_Gumble\n",
    "prime_word = 'homer_simpson'\n",
    "\n",
    "\"\"\"\n",
    "DON'T MODIFY ANYTHING IN THIS CELL THAT IS BELOW THIS LINE\n",
    "\"\"\"\n",
    "loaded_graph = tf.Graph()\n",
    "with tf.Session(graph=loaded_graph) as sess:\n",
    "    # Load saved model\n",
    "    loader = tf.train.import_meta_graph(load_dir + '.meta')\n",
    "    loader.restore(sess, load_dir)\n",
    "\n",
    "    # Get Tensors from loaded model\n",
    "    input_text, initial_state, final_state, probs = get_tenors(loaded_graph)\n",
    "\n",
    "    # Sentences generation setup\n",
    "    gen_sentences = [prime_word + ':']\n",
    "    prev_state = sess.run(initial_state, {input_text: np.array([[1]])})\n",
    "\n",
    "    # Generate sentences\n",
    "    for n in range(gen_length):\n",
    "        # Dynamic Input\n",
    "        dyn_input = [[vocab_to_int[word] for word in gen_sentences[-seq_length:]]]\n",
    "        dyn_seq_length = len(dyn_input[0])\n",
    "\n",
    "        # Get Prediction\n",
    "        probabilities, prev_state = sess.run(\n",
    "            [probs, final_state],\n",
    "            {input_text: dyn_input, initial_state: prev_state})\n",
    "        \n",
    "        pred_word = pick_word(probabilities[dyn_seq_length-1], int_to_vocab)\n",
    "\n",
    "        gen_sentences.append(pred_word)\n",
    "    \n",
    "    # Remove tokens\n",
    "    tv_script = ' '.join(gen_sentences)\n",
    "    for key, token in token_dict.items():\n",
    "        ending = ' ' if key in ['\\n', '(', '\"'] else ''\n",
    "        tv_script = tv_script.replace(' ' + token.lower(), key)\n",
    "    tv_script = tv_script.replace('\\n ', '\\n')\n",
    "    tv_script = tv_script.replace('( ', '(')\n",
    "        \n",
    "    print(tv_script)"
   ]
  },
  {
   "cell_type": "markdown",
   "metadata": {
    "deletable": true,
    "editable": true
   },
   "source": [
    "# The TV Script is Nonsensical\n",
    "It's ok if the TV script doesn't make any sense.  We trained on less than a megabyte of text.  In order to get good results, you'll have to use a smaller vocabulary or get more data.  Luckly there's more data!  As we mentioned in the begging of this project, this is a subset of [another dataset](https://www.kaggle.com/wcukierski/the-simpsons-by-the-dat).  We didn't have you train on all the data, because that would take too long.  However, you are free to train your neural network on all the data.  After you complete the project, of course.\n",
    "# Submitting This Project\n",
    "When submitting this project, make sure to run all the cells before saving the notebook. Save the notebook file as \"dlnd_tv_script_generation.ipynb\" and save it as a HTML file under \"File\" -> \"Download as\". Include the \"helper.py\" and \"problem_unittests.py\" files in your submission."
   ]
  }
 ],
 "metadata": {
  "kernelspec": {
   "display_name": "Python 3",
   "language": "python",
   "name": "python3"
  },
  "language_info": {
   "codemirror_mode": {
    "name": "ipython",
    "version": 3
   },
   "file_extension": ".py",
   "mimetype": "text/x-python",
   "name": "python",
   "nbconvert_exporter": "python",
   "pygments_lexer": "ipython3",
   "version": "3.5.3"
  },
  "widgets": {
   "state": {},
   "version": "1.1.2"
  }
 },
 "nbformat": 4,
 "nbformat_minor": 0
}
