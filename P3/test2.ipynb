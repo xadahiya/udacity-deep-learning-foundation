{
 "cells": [
  {
   "cell_type": "markdown",
   "metadata": {
    "deletable": true,
    "editable": true
   },
   "source": [
    "# TV Script Generation\n",
    "In this project, you'll generate your own [Simpsons](https://en.wikipedia.org/wiki/The_Simpsons) TV scripts using RNNs.  You'll be using part of the [Simpsons dataset](https://www.kaggle.com/wcukierski/the-simpsons-by-the-data) of scripts from 27 seasons.  The Neural Network you'll build will generate a new TV script for a scene at [Moe's Tavern](https://simpsonswiki.com/wiki/Moe's_Tavern).\n",
    "## Get the Data\n",
    "The data is already provided for you.  You'll be using a subset of the original dataset.  It consists of only the scenes in Moe's Tavern.  This doesn't include other versions of the tavern, like \"Moe's Cavern\", \"Flaming Moe's\", \"Uncle Moe's Family Feed-Bag\", etc.."
   ]
  },
  {
   "cell_type": "code",
   "execution_count": null,
   "metadata": {
    "collapsed": false,
    "deletable": true,
    "editable": true
   },
   "outputs": [],
   "source": [
    "\"\"\"\n",
    "DON'T MODIFY ANYTHING IN THIS CELL\n",
    "\"\"\"\n",
    "import helper\n",
    "\n",
    "data_dir = './data/simpsons/moes_tavern_lines.txt'\n",
    "text = helper.load_data(data_dir)\n",
    "# Ignore notice, since we don't use it for analysing the data\n",
    "text = text[81:]"
   ]
  },
  {
   "cell_type": "markdown",
   "metadata": {
    "deletable": true,
    "editable": true
   },
   "source": [
    "## Explore the Data\n",
    "Play around with `view_sentence_range` to view different parts of the data."
   ]
  },
  {
   "cell_type": "code",
   "execution_count": null,
   "metadata": {
    "collapsed": false,
    "deletable": true,
    "editable": true
   },
   "outputs": [],
   "source": [
    "view_sentence_range = (0, 10)\n",
    "\n",
    "\"\"\"\n",
    "DON'T MODIFY ANYTHING IN THIS CELL\n",
    "\"\"\"\n",
    "import numpy as np\n",
    "\n",
    "print('Dataset Stats')\n",
    "print('Roughly the number of unique words: {}'.format(len({word: None for word in text.split()})))\n",
    "scenes = text.split('\\n\\n')\n",
    "print('Number of scenes: {}'.format(len(scenes)))\n",
    "sentence_count_scene = [scene.count('\\n') for scene in scenes]\n",
    "print('Average number of sentences in each scene: {}'.format(np.average(sentence_count_scene)))\n",
    "\n",
    "sentences = [sentence for scene in scenes for sentence in scene.split('\\n')]\n",
    "print('Number of lines: {}'.format(len(sentences)))\n",
    "word_count_sentence = [len(sentence.split()) for sentence in sentences]\n",
    "print('Average number of words in each line: {}'.format(np.average(word_count_sentence)))\n",
    "\n",
    "print()\n",
    "print('The sentences {} to {}:'.format(*view_sentence_range))\n",
    "print('\\n'.join(text.split('\\n')[view_sentence_range[0]:view_sentence_range[1]]))"
   ]
  },
  {
   "cell_type": "markdown",
   "metadata": {
    "deletable": true,
    "editable": true
   },
   "source": [
    "## Implement Preprocessing Functions\n",
    "The first thing to do to any dataset is preprocessing.  Implement the following preprocessing functions below:\n",
    "- Lookup Table\n",
    "- Tokenize Punctuation\n",
    "\n",
    "### Lookup Tablel\n",
    "To create a word embedding, you first need to transform the words to ids.  In this function, create two dictionaries:\n",
    "- Dictionary to go from the words to an id, we'll call `vocab_to_int`\n",
    "- Dictionary to go from the id to word, we'll call `int_to_vocab`\n",
    "\n",
    "Return these dictionaries in the following tuple `(vocab_to_int, int_to_vocab)`"
   ]
  },
  {
   "cell_type": "code",
   "execution_count": null,
   "metadata": {
    "collapsed": false,
    "deletable": true,
    "editable": true
   },
   "outputs": [],
   "source": [
    "import numpy as np\n",
    "import problem_unittests as tests\n",
    "\n",
    "def create_lookup_tables(text):\n",
    "    \"\"\"\n",
    "    Create lookup tables for vocabulary\n",
    "    :param text: The text of tv scripts\n",
    "    :return: A tuple of dicts (vocab_to_int, int_to_vocab)\n",
    "    \"\"\"\n",
    "    # TODO: Implement Function\n",
    "    vocab = set(text)\n",
    "    \n",
    "    vocab_to_int = {c:i for i,c in enumerate(vocab)}\n",
    "    int_to_vocab = dict(enumerate(vocab))\n",
    "    \n",
    "    return (vocab_to_int, int_to_vocab)\n",
    "\n",
    "\n",
    "\n",
    "\"\"\"\n",
    "DON'T MODIFY ANYTHING IN THIS CELL THAT IS BELOW THIS LINE\n",
    "\"\"\"\n",
    "tests.test_create_lookup_tables(create_lookup_tables)"
   ]
  },
  {
   "cell_type": "markdown",
   "metadata": {
    "deletable": true,
    "editable": true
   },
   "source": [
    "### Tokenize Punctuation\n",
    "We'll be splitting the script into a word array using spaces as delimiters.  However, punctuations like periods and exclamation marks make it hard for the neural network to distinguish between the word \"bye\" and \"bye!\".\n",
    "\n",
    "Implement the function `token_lookup` to return a dict that will be used to tokenize symbols like \"!\" into \"||Exclamation_Mark||\".  Create a dictionary for the following symbols where the symbol is the key and value is the token:\n",
    "- Period ( . )\n",
    "- Comma ( , )\n",
    "- Quotation Mark ( \" )\n",
    "- Semicolon ( ; )\n",
    "- Exclamation mark ( ! )\n",
    "- Question mark ( ? )\n",
    "- Left Parentheses ( ( )\n",
    "- Right Parentheses ( ) )\n",
    "- Dash ( -- )\n",
    "- Return ( \\n )\n",
    "\n",
    "This dictionary will be used to token the symbols and add the delimiter (space) around it.  This separates the symbols as it's own word, making it easier for the neural network to predict on the next word."
   ]
  },
  {
   "cell_type": "code",
   "execution_count": null,
   "metadata": {
    "collapsed": false,
    "deletable": true,
    "editable": true
   },
   "outputs": [],
   "source": [
    "def token_lookup():\n",
    "    \"\"\"\n",
    "    Generate a dict to turn punctuation into a token.\n",
    "    :return: Tokenize dictionary where the key is the punctuation and the value is the token\n",
    "    \"\"\"\n",
    "    # TODO: Implement Function\n",
    "    return {\".\":\"||Period||\", \",\":\"||Comma||\", \"\\\"\":\"||Quotation_Mark||\", \";\":\"||Semicolon||\",\n",
    "            \"!\":\"||Exclamation_mark||\", \"?\":\"||Question_mark||\", \"(\":\"||Left_Parentheses||\",\n",
    "            \")\": \"||Right_Parentheses||\", \"--\":\"||Dash||\",\"\\n\":\"||Return||\"}\n",
    "\n",
    "\"\"\"\n",
    "DON'T MODIFY ANYTHING IN THIS CELL THAT IS BELOW THIS LINE\n",
    "\"\"\"\n",
    "tests.test_tokenize(token_lookup)"
   ]
  },
  {
   "cell_type": "markdown",
   "metadata": {
    "deletable": true,
    "editable": true
   },
   "source": [
    "## Preprocess all the data and save it\n",
    "Running the code cell below will preprocess all the data and save it to file."
   ]
  },
  {
   "cell_type": "code",
   "execution_count": null,
   "metadata": {
    "collapsed": false,
    "deletable": true,
    "editable": true
   },
   "outputs": [],
   "source": [
    "\"\"\"\n",
    "DON'T MODIFY ANYTHING IN THIS CELL\n",
    "\"\"\"\n",
    "# Preprocess Training, Validation, and Testing Data\n",
    "helper.preprocess_and_save_data(data_dir, token_lookup, create_lookup_tables)"
   ]
  },
  {
   "cell_type": "markdown",
   "metadata": {
    "deletable": true,
    "editable": true
   },
   "source": [
    "# Check Point\n",
    "This is your first checkpoint. If you ever decide to come back to this notebook or have to restart the notebook, you can start from here. The preprocessed data has been saved to disk."
   ]
  },
  {
   "cell_type": "code",
   "execution_count": 1,
   "metadata": {
    "collapsed": false,
    "deletable": true,
    "editable": true
   },
   "outputs": [],
   "source": [
    "\"\"\"\n",
    "DON'T MODIFY ANYTHING IN THIS CELL\n",
    "\"\"\"\n",
    "import helper\n",
    "import numpy as np\n",
    "import problem_unittests as tests\n",
    "\n",
    "int_text, vocab_to_int, int_to_vocab, token_dict = helper.load_preprocess()"
   ]
  },
  {
   "cell_type": "markdown",
   "metadata": {
    "deletable": true,
    "editable": true
   },
   "source": [
    "## Build the Neural Network\n",
    "You'll build the components necessary to build a RNN by implementing the following functions below:\n",
    "- get_inputs\n",
    "- get_init_cell\n",
    "- get_embed\n",
    "- build_rnn\n",
    "- build_nn\n",
    "- get_batches\n",
    "\n",
    "### Input\n",
    "Implement the `get_inputs()` function to create TF Placeholders for the Neural Network.  It should create the following placeholders:\n",
    "- Input text placeholder named \"input\" using the [TF Placeholder](https://www.tensorflow.org/api_docs/python/tf/placeholder) `name` parameter.\n",
    "- Targets placeholder\n",
    "- Learning Rate placeholder\n",
    "\n",
    "Return the placeholders in the following the tuple `(Input, Targets, LearingRate)`"
   ]
  },
  {
   "cell_type": "code",
   "execution_count": 2,
   "metadata": {
    "collapsed": false,
    "deletable": true,
    "editable": true
   },
   "outputs": [
    {
     "name": "stdout",
     "output_type": "stream",
     "text": [
      "Tests Passed\n"
     ]
    }
   ],
   "source": [
    "import tensorflow as tf\n",
    "\n",
    "def get_inputs():\n",
    "    \"\"\"\n",
    "    Create TF Placeholders for input, targets, and learning rate.\n",
    "    :return: Tuple (input, targets, learning rate)\n",
    "    \"\"\"\n",
    "    # TODO: Implement Function\n",
    "    inputs = tf.placeholder(tf.int32, [None, None], name=\"input\")\n",
    "    targets = tf.placeholder(tf.int32, [None, None], name=\"targets\")\n",
    "    lr = tf.placeholder(tf.float32, name=\"learning_rate\")\n",
    "    return inputs, targets, lr\n",
    "\n",
    "\n",
    "\"\"\"\n",
    "DON'T MODIFY ANYTHING IN THIS CELL THAT IS BELOW THIS LINE\n",
    "\"\"\"\n",
    "tests.test_get_inputs(get_inputs)"
   ]
  },
  {
   "cell_type": "markdown",
   "metadata": {
    "deletable": true,
    "editable": true
   },
   "source": [
    "### Build RNN Cell and Initialize\n",
    "Stack one or more [`BasicLSTMCells`](https://www.tensorflow.org/api_docs/python/tf/contrib/rnn/BasicLSTMCell) in a [`MultiRNNCell`](https://www.tensorflow.org/api_docs/python/tf/contrib/rnn/MultiRNNCell).\n",
    "- The Rnn size should be set using `rnn_size`\n",
    "- Initalize Cell State using the MultiRNNCell's [`zero_state()`](https://www.tensorflow.org/api_docs/python/tf/contrib/rnn/MultiRNNCell#zero_state) function\n",
    "    - Apply the name \"initial_state\" to the initial state using [`tf.identity()`](https://www.tensorflow.org/api_docs/python/tf/identity)\n",
    "\n",
    "Return the cell and initial state in the following tuple `(Cell, InitialState)`"
   ]
  },
  {
   "cell_type": "code",
   "execution_count": 3,
   "metadata": {
    "collapsed": false,
    "deletable": true,
    "editable": true
   },
   "outputs": [
    {
     "name": "stdout",
     "output_type": "stream",
     "text": [
      "Tests Passed\n"
     ]
    }
   ],
   "source": [
    "def get_init_cell(batch_size, rnn_size):\n",
    "    \"\"\"\n",
    "    Create an RNN Cell and initialize it.\n",
    "    :param batch_size: Size of batches\n",
    "    :param rnn_size: Size of RNNs\n",
    "    :return: Tuple (cell, initialize state)\n",
    "    \"\"\"\n",
    "    # TODO: Implement Function\n",
    "    lstm = tf.contrib.rnn.BasicLSTMCell(rnn_size, state_is_tuple=True)\n",
    "    stacked_lstm = tf.contrib.rnn.MultiRNNCell([lstm]*3, state_is_tuple = True)\n",
    "    \n",
    "    initial_state = state = stacked_lstm.zero_state(batch_size, tf.float32)\n",
    "    \n",
    "    init_state = tf.identity(initial_state, name = \"initial_state\")\n",
    "    \n",
    "#     print(\"get_init_cell \\t:\", stacked_lstm, init_state)\n",
    "    return stacked_lstm, init_state\n",
    "\n",
    "\n",
    "\"\"\"\n",
    "DON'T MODIFY ANYTHING IN THIS CELL THAT IS BELOW THIS LINE\n",
    "\"\"\"\n",
    "tests.test_get_init_cell(get_init_cell)"
   ]
  },
  {
   "cell_type": "markdown",
   "metadata": {
    "deletable": true,
    "editable": true
   },
   "source": [
    "### Word Embedding\n",
    "Apply embedding to `input_data` using TensorFlow.  Return the embedded sequence."
   ]
  },
  {
   "cell_type": "code",
   "execution_count": 4,
   "metadata": {
    "collapsed": false,
    "deletable": true,
    "editable": true
   },
   "outputs": [
    {
     "name": "stdout",
     "output_type": "stream",
     "text": [
      "Tests Passed\n"
     ]
    }
   ],
   "source": [
    "def get_embed(input_data, vocab_size, embed_dim):\n",
    "    \"\"\"\n",
    "    Create embedding for <input_data>.\n",
    "    :param input_data: TF placeholder for text input.\n",
    "    :param vocab_size: Number of words in vocabulary.\n",
    "    :param embed_dim: Number of embedding dimensions\n",
    "    :return: Embedded input.\n",
    "    \"\"\"\n",
    "    embedding = tf.Variable(\n",
    "    tf.random_uniform([vocab_size, embed_dim], -1.0, 1.0))\n",
    "    \n",
    "    embed = tf.nn.embedding_lookup(embedding, input_data)\n",
    "#     print(\"get_embed \\t:\", embed)\n",
    "    return embed\n",
    "\n",
    "\n",
    "\"\"\"\n",
    "DON'T MODIFY ANYTHING IN THIS CELL THAT IS BELOW THIS LINE\n",
    "\"\"\"\n",
    "tests.test_get_embed(get_embed)"
   ]
  },
  {
   "cell_type": "markdown",
   "metadata": {
    "deletable": true,
    "editable": true
   },
   "source": [
    "### Build RNN\n",
    "You created a RNN Cell in the `get_init_cell()` function.  Time to use the cell to create a RNN.\n",
    "- Build the RNN using the [`tf.nn.dynamic_rnn()`](https://www.tensorflow.org/api_docs/python/tf/nn/dynamic_rnn)\n",
    " - Apply the name \"final_state\" to the final state using [`tf.identity()`](https://www.tensorflow.org/api_docs/python/tf/identity)\n",
    "\n",
    "Return the outputs and final_state state in the following tuple `(Outputs, FinalState)` "
   ]
  },
  {
   "cell_type": "code",
   "execution_count": 5,
   "metadata": {
    "collapsed": false,
    "deletable": true,
    "editable": true
   },
   "outputs": [
    {
     "name": "stdout",
     "output_type": "stream",
     "text": [
      "Tests Passed\n"
     ]
    }
   ],
   "source": [
    "def build_rnn(cell, inputs):\n",
    "    \"\"\"\n",
    "    Create a RNN using a RNN Cell\n",
    "    :param cell: RNN Cell\n",
    "    :param inputs: Input text data\n",
    "    :return: Tuple (Outputs, Final State)\n",
    "    \"\"\"\n",
    "    # TODO: Implement Function\n",
    "    outputs, last_state = tf.nn.dynamic_rnn(cell=cell, inputs=inputs, dtype=tf.float32)\n",
    "    \n",
    "    fs = tf.identity(last_state, name=\"final_state\")\n",
    "#     print(\"build_rnn \\t:\", outputs,fs)\n",
    "    return outputs, fs\n",
    "\n",
    "\n",
    "\"\"\"\n",
    "DON'T MODIFY ANYTHING IN THIS CELL THAT IS BELOW THIS LINE\n",
    "\"\"\"\n",
    "tests.test_build_rnn(build_rnn)"
   ]
  },
  {
   "cell_type": "markdown",
   "metadata": {
    "deletable": true,
    "editable": true
   },
   "source": [
    "### Build the Neural Network\n",
    "Apply the functions you implemented above to:\n",
    "- Apply embedding to `input_data` using your `get_embed(input_data, vocab_size, embed_dim)` function.\n",
    "- Build RNN using `cell` and your `build_rnn(cell, inputs)` function.\n",
    "- Apply a fully connected layer with a linear activation and `vocab_size` as the number of outputs.\n",
    "\n",
    "Return the logits and final state in the following tuple (Logits, FinalState) "
   ]
  },
  {
   "cell_type": "code",
   "execution_count": 11,
   "metadata": {
    "collapsed": false,
    "deletable": true,
    "editable": true
   },
   "outputs": [
    {
     "name": "stdout",
     "output_type": "stream",
     "text": [
      "Tests Passed\n"
     ]
    }
   ],
   "source": [
    "def build_nn(cell, rnn_size, input_data, vocab_size):\n",
    "    \"\"\"\n",
    "    Build part of the neural network\n",
    "    :param cell: RNN cell\n",
    "    :param rnn_size: Size of rnns\n",
    "    :param input_data: Input data\n",
    "    :param vocab_size: Vocabulary size\n",
    "    :return: Tuple (Logits, FinalState)\n",
    "    \"\"\"\n",
    "    # TODO: Implement Function\n",
    "    embed_size = 300\n",
    "    embed = get_embed(input_data, vocab_size, embed_size)\n",
    "    \n",
    "    out, fs_rnn = build_rnn(cell, embed)\n",
    "#     print(\"output_shape\", out.shape.as_list())\n",
    "    weights = tf.Variable(tf.truncated_normal((128,\n",
    "                                               out.shape.as_list()[2],vocab_size), stddev = 0.1))\n",
    "#     print(\"\\npasspass\\t\", weights)\n",
    "    \n",
    "    bias = tf.Variable(tf.zeros(vocab_size))\n",
    "#     print(\"\\npasspass\\t\", bias)\n",
    "        \n",
    "    logits = (tf.add(tf.matmul(out, weights), bias))\n",
    "                                \n",
    "#     print(\"build_nn \\t:\", logits, fs_rnn)                            \n",
    "    return logits, fs_rnn\n",
    "\n",
    "\n",
    "\"\"\"\n",
    "DON'T MODIFY ANYTHING IN THIS CELL THAT IS BELOW THIS LINE\n",
    "\"\"\"\n",
    "tests.test_build_nn(build_nn)"
   ]
  },
  {
   "cell_type": "markdown",
   "metadata": {
    "deletable": true,
    "editable": true
   },
   "source": [
    "### Batches\n",
    "Implement `get_batches` to create batches of input and targets using `int_text`.  The batches should be a Numpy array with the shape `(number of batches, 2, batch size, sequence length)`. Each batch contains two elements:\n",
    "- The first element is a single batch of **input** with the shape `[batch size, sequence length]`\n",
    "- The second element is a single batch of **targets** with the shape `[batch size, sequence length]`\n",
    "\n",
    "If you can't fill the last batch with enough data, drop the last batch.\n",
    "\n",
    "For exmple, `get_batches([1, 2, 3, 4, 5, 6, 7, 8, 9, 10, 11, 12, 13, 14, 15], 2, 3)` would return a Numpy array of the following:\n",
    "```\n",
    "[\n",
    "  # First Batch\n",
    "  [\n",
    "    # Batch of Input\n",
    "    [[ 1  2  3], [ 7  8  9]],\n",
    "    # Batch of targets\n",
    "    [[ 2  3  4], [ 8  9 10]]\n",
    "  ],\n",
    " \n",
    "  # Second Batch\n",
    "  [\n",
    "    # Batch of Input\n",
    "    [[ 4  5  6], [10 11 12]],\n",
    "    # Batch of targets\n",
    "    [[ 5  6  7], [11 12 13]]\n",
    "  ]\n",
    "]\n",
    "```"
   ]
  },
  {
   "cell_type": "code",
   "execution_count": 12,
   "metadata": {
    "collapsed": false,
    "deletable": true,
    "editable": true
   },
   "outputs": [
    {
     "name": "stdout",
     "output_type": "stream",
     "text": [
      "Tests Passed\n"
     ]
    }
   ],
   "source": [
    "def get_batches(int_text, batch_size, seq_length):\n",
    "    \"\"\"\n",
    "    Return batches of input and target\n",
    "    :param int_text: Text with the words replaced by their ids\n",
    "    :param batch_size: The size of batch\n",
    "    :param seq_length: The length of sequence\n",
    "    :return: Batches as a Numpy array\n",
    "    \"\"\"\n",
    "    # TODO: Implement Function\n",
    "#     print(batch_size*seq_length)\n",
    "    num_batches = len(int_text)//(batch_size*seq_length)\n",
    "#     print(len(int_text))\n",
    "#     print(num_batches, seq_length)\n",
    "    req_data_len = num_batches*batch_size*seq_length\n",
    "    int_text_arr = np.array(int_text[:req_data_len])\n",
    "    out_text_arr = np.array(int_text[1:req_data_len+1])\n",
    "#     int_text_arr = np.array(int_text)\n",
    "#     out_text_arr = np.array(out_text)\n",
    "    reshaped_int_text = int_text_arr.reshape(batch_size*num_batches,seq_length)\n",
    "    reshaped_out_text = out_text_arr.reshape(batch_size*num_batches, seq_length)\n",
    "#     print(reshaped_int_text,\"\\n\\n\", reshaped_out_text.shape)\n",
    "    \n",
    "    output = []\n",
    "    for i in range(0, num_batches*batch_size, batch_size):\n",
    "        batch = []\n",
    "        input_batch = []   \n",
    "        target_batch = []\n",
    "        for j in range(batch_size):\n",
    "            input_batch.append(list(reshaped_int_text[i+j,:]))\n",
    "            target_batch.append(list(reshaped_out_text[i+j,:]))\n",
    "        batch.append(input_batch)\n",
    "        batch.append(target_batch)\n",
    "#         print(\"batch\", batch)\n",
    "        output.append(batch)\n",
    "#         print(\"output\", output)\n",
    "    \n",
    "    return np.array(output)\n",
    "\n",
    "\n",
    "\"\"\"\n",
    "DON'T MODIFY ANYTHING IN THIS CELL THAT IS BELOW THIS LINE\n",
    "\"\"\"\n",
    "tests.test_get_batches(get_batches)"
   ]
  },
  {
   "cell_type": "markdown",
   "metadata": {
    "deletable": true,
    "editable": true
   },
   "source": [
    "## Neural Network Training\n",
    "### Hyperparameters\n",
    "Tune the following parameters:\n",
    "\n",
    "- Set `num_epochs` to the number of epochs.\n",
    "- Set `batch_size` to the batch size.\n",
    "- Set `rnn_size` to the size of the RNNs.\n",
    "- Set `seq_length` to the length of sequence.\n",
    "- Set `learning_rate` to the learning rate.\n",
    "- Set `show_every_n_batches` to the number of batches the neural network should print progress."
   ]
  },
  {
   "cell_type": "code",
   "execution_count": 19,
   "metadata": {
    "collapsed": true,
    "deletable": true,
    "editable": true
   },
   "outputs": [],
   "source": [
    "# Number of Epochs\n",
    "num_epochs = 150\n",
    "# Batch Size\n",
    "batch_size = 128\n",
    "# RNN Size\n",
    "rnn_size = 256\n",
    "# Sequence Length\n",
    "seq_length = 20\n",
    "# Learning Rate\n",
    "learning_rate = 0.001\n",
    "# Show stats for every n number of batches\n",
    "show_every_n_batches = 15\n",
    "\n",
    "\"\"\"\n",
    "DON'T MODIFY ANYTHING IN THIS CELL THAT IS BELOW THIS LINE\n",
    "\"\"\"\n",
    "save_dir = './save'"
   ]
  },
  {
   "cell_type": "markdown",
   "metadata": {
    "deletable": true,
    "editable": true
   },
   "source": [
    "### Build the Graph\n",
    "Build the graph using the neural network you implemented."
   ]
  },
  {
   "cell_type": "code",
   "execution_count": 20,
   "metadata": {
    "collapsed": false,
    "deletable": true,
    "editable": true
   },
   "outputs": [],
   "source": [
    "\"\"\"\n",
    "DON'T MODIFY ANYTHING IN THIS CELL\n",
    "\"\"\"\n",
    "from tensorflow.contrib import seq2seq\n",
    "\n",
    "train_graph = tf.Graph()\n",
    "with train_graph.as_default():\n",
    "    vocab_size = len(int_to_vocab)\n",
    "    input_text, targets, lr = get_inputs()\n",
    "    input_data_shape = tf.shape(input_text)\n",
    "    cell, initial_state = get_init_cell(input_data_shape[0], rnn_size)\n",
    "    logits, final_state = build_nn(cell, rnn_size, input_text, vocab_size)\n",
    "\n",
    "    # Probabilities for generating words\n",
    "    probs = tf.nn.softmax(logits, name='probs')\n",
    "\n",
    "    # Loss function\n",
    "    cost = seq2seq.sequence_loss(\n",
    "        logits,\n",
    "        targets,\n",
    "        tf.ones([input_data_shape[0], input_data_shape[1]]))\n",
    "\n",
    "    # Optimizer\n",
    "    optimizer = tf.train.AdamOptimizer(lr)\n",
    "\n",
    "    # Gradient Clipping\n",
    "    gradients = optimizer.compute_gradients(cost)\n",
    "    capped_gradients = [(tf.clip_by_value(grad, -1., 1.), var) for grad, var in gradients]\n",
    "    train_op = optimizer.apply_gradients(capped_gradients)"
   ]
  },
  {
   "cell_type": "markdown",
   "metadata": {
    "deletable": true,
    "editable": true
   },
   "source": [
    "## Train\n",
    "Train the neural network on the preprocessed data.  If you have a hard time getting a good loss, check the [forms](https://discussions.udacity.com/) to see if anyone is having the same problem."
   ]
  },
  {
   "cell_type": "code",
   "execution_count": 21,
   "metadata": {
    "collapsed": false,
    "deletable": true,
    "editable": true
   },
   "outputs": [
    {
     "name": "stdout",
     "output_type": "stream",
     "text": [
      "Epoch   0 Batch    0/26   train_loss = 8.822\n",
      "Epoch   0 Batch   15/26   train_loss = 8.475\n",
      "Epoch   1 Batch    4/26   train_loss = 5.988\n",
      "Epoch   1 Batch   19/26   train_loss = 5.490\n",
      "Epoch   2 Batch    8/26   train_loss = 5.012\n",
      "Epoch   2 Batch   23/26   train_loss = 5.133\n",
      "Epoch   3 Batch   12/26   train_loss = 4.985\n",
      "Epoch   4 Batch    1/26   train_loss = 4.952\n",
      "Epoch   4 Batch   16/26   train_loss = 5.015\n",
      "Epoch   5 Batch    5/26   train_loss = 4.926\n",
      "Epoch   5 Batch   20/26   train_loss = 4.929\n",
      "Epoch   6 Batch    9/26   train_loss = 4.800\n",
      "Epoch   6 Batch   24/26   train_loss = 4.836\n",
      "Epoch   7 Batch   13/26   train_loss = 4.769\n",
      "Epoch   8 Batch    2/26   train_loss = 4.600\n",
      "Epoch   8 Batch   17/26   train_loss = 4.671\n",
      "Epoch   9 Batch    6/26   train_loss = 4.638\n",
      "Epoch   9 Batch   21/26   train_loss = 4.696\n",
      "Epoch  10 Batch   10/26   train_loss = 4.467\n",
      "Epoch  10 Batch   25/26   train_loss = 4.566\n",
      "Epoch  11 Batch   14/26   train_loss = 4.513\n",
      "Epoch  12 Batch    3/26   train_loss = 4.420\n",
      "Epoch  12 Batch   18/26   train_loss = 4.431\n",
      "Epoch  13 Batch    7/26   train_loss = 4.334\n",
      "Epoch  13 Batch   22/26   train_loss = 4.447\n",
      "Epoch  14 Batch   11/26   train_loss = 4.232\n",
      "Epoch  15 Batch    0/26   train_loss = 4.234\n",
      "Epoch  15 Batch   15/26   train_loss = 4.277\n",
      "Epoch  16 Batch    4/26   train_loss = 4.258\n",
      "Epoch  16 Batch   19/26   train_loss = 4.185\n",
      "Epoch  17 Batch    8/26   train_loss = 4.079\n",
      "Epoch  17 Batch   23/26   train_loss = 4.048\n",
      "Epoch  18 Batch   12/26   train_loss = 4.058\n",
      "Epoch  19 Batch    1/26   train_loss = 3.976\n",
      "Epoch  19 Batch   16/26   train_loss = 4.027\n",
      "Epoch  20 Batch    5/26   train_loss = 3.970\n",
      "Epoch  20 Batch   20/26   train_loss = 3.968\n",
      "Epoch  21 Batch    9/26   train_loss = 3.842\n",
      "Epoch  21 Batch   24/26   train_loss = 3.867\n",
      "Epoch  22 Batch   13/26   train_loss = 3.823\n",
      "Epoch  23 Batch    2/26   train_loss = 3.677\n",
      "Epoch  23 Batch   17/26   train_loss = 3.761\n",
      "Epoch  24 Batch    6/26   train_loss = 3.700\n",
      "Epoch  24 Batch   21/26   train_loss = 3.766\n",
      "Epoch  25 Batch   10/26   train_loss = 3.558\n",
      "Epoch  25 Batch   25/26   train_loss = 3.614\n",
      "Epoch  26 Batch   14/26   train_loss = 3.614\n",
      "Epoch  27 Batch    3/26   train_loss = 3.508\n",
      "Epoch  27 Batch   18/26   train_loss = 3.555\n",
      "Epoch  28 Batch    7/26   train_loss = 3.437\n",
      "Epoch  28 Batch   22/26   train_loss = 3.576\n",
      "Epoch  29 Batch   11/26   train_loss = 3.357\n",
      "Epoch  30 Batch    0/26   train_loss = 3.390\n",
      "Epoch  30 Batch   15/26   train_loss = 3.425\n",
      "Epoch  31 Batch    4/26   train_loss = 3.398\n",
      "Epoch  31 Batch   19/26   train_loss = 3.363\n",
      "Epoch  32 Batch    8/26   train_loss = 3.252\n",
      "Epoch  32 Batch   23/26   train_loss = 3.255\n",
      "Epoch  33 Batch   12/26   train_loss = 3.211\n",
      "Epoch  34 Batch    1/26   train_loss = 3.160\n",
      "Epoch  34 Batch   16/26   train_loss = 3.185\n",
      "Epoch  35 Batch    5/26   train_loss = 3.154\n",
      "Epoch  35 Batch   20/26   train_loss = 3.155\n",
      "Epoch  36 Batch    9/26   train_loss = 3.067\n",
      "Epoch  36 Batch   24/26   train_loss = 3.072\n",
      "Epoch  37 Batch   13/26   train_loss = 3.036\n",
      "Epoch  38 Batch    2/26   train_loss = 2.954\n",
      "Epoch  38 Batch   17/26   train_loss = 2.981\n",
      "Epoch  39 Batch    6/26   train_loss = 2.957\n",
      "Epoch  39 Batch   21/26   train_loss = 2.984\n",
      "Epoch  40 Batch   10/26   train_loss = 2.840\n",
      "Epoch  40 Batch   25/26   train_loss = 2.857\n",
      "Epoch  41 Batch   14/26   train_loss = 2.851\n",
      "Epoch  42 Batch    3/26   train_loss = 2.815\n",
      "Epoch  42 Batch   18/26   train_loss = 2.775\n",
      "Epoch  43 Batch    7/26   train_loss = 2.790\n",
      "Epoch  43 Batch   22/26   train_loss = 2.873\n",
      "Epoch  44 Batch   11/26   train_loss = 2.766\n",
      "Epoch  45 Batch    0/26   train_loss = 2.810\n",
      "Epoch  45 Batch   15/26   train_loss = 2.829\n",
      "Epoch  46 Batch    4/26   train_loss = 2.786\n",
      "Epoch  46 Batch   19/26   train_loss = 2.720\n",
      "Epoch  47 Batch    8/26   train_loss = 2.632\n",
      "Epoch  47 Batch   23/26   train_loss = 2.593\n",
      "Epoch  48 Batch   12/26   train_loss = 2.565\n",
      "Epoch  49 Batch    1/26   train_loss = 2.535\n",
      "Epoch  49 Batch   16/26   train_loss = 2.563\n",
      "Epoch  50 Batch    5/26   train_loss = 2.565\n",
      "Epoch  50 Batch   20/26   train_loss = 2.526\n",
      "Epoch  51 Batch    9/26   train_loss = 2.475\n",
      "Epoch  51 Batch   24/26   train_loss = 2.409\n",
      "Epoch  52 Batch   13/26   train_loss = 2.401\n",
      "Epoch  53 Batch    2/26   train_loss = 2.327\n",
      "Epoch  53 Batch   17/26   train_loss = 2.352\n",
      "Epoch  54 Batch    6/26   train_loss = 2.325\n",
      "Epoch  54 Batch   21/26   train_loss = 2.343\n",
      "Epoch  55 Batch   10/26   train_loss = 2.254\n",
      "Epoch  55 Batch   25/26   train_loss = 2.258\n",
      "Epoch  56 Batch   14/26   train_loss = 2.249\n",
      "Epoch  57 Batch    3/26   train_loss = 2.221\n",
      "Epoch  57 Batch   18/26   train_loss = 2.176\n",
      "Epoch  58 Batch    7/26   train_loss = 2.146\n",
      "Epoch  58 Batch   22/26   train_loss = 2.180\n",
      "Epoch  59 Batch   11/26   train_loss = 2.080\n",
      "Epoch  60 Batch    0/26   train_loss = 2.119\n",
      "Epoch  60 Batch   15/26   train_loss = 2.090\n",
      "Epoch  61 Batch    4/26   train_loss = 2.091\n",
      "Epoch  61 Batch   19/26   train_loss = 2.021\n",
      "Epoch  62 Batch    8/26   train_loss = 2.019\n",
      "Epoch  62 Batch   23/26   train_loss = 1.993\n",
      "Epoch  63 Batch   12/26   train_loss = 1.972\n",
      "Epoch  64 Batch    1/26   train_loss = 1.927\n",
      "Epoch  64 Batch   16/26   train_loss = 1.929\n",
      "Epoch  65 Batch    5/26   train_loss = 1.924\n",
      "Epoch  65 Batch   20/26   train_loss = 1.888\n",
      "Epoch  66 Batch    9/26   train_loss = 1.896\n",
      "Epoch  66 Batch   24/26   train_loss = 1.831\n",
      "Epoch  67 Batch   13/26   train_loss = 1.844\n",
      "Epoch  68 Batch    2/26   train_loss = 1.815\n",
      "Epoch  68 Batch   17/26   train_loss = 1.784\n",
      "Epoch  69 Batch    6/26   train_loss = 1.772\n",
      "Epoch  69 Batch   21/26   train_loss = 1.758\n",
      "Epoch  70 Batch   10/26   train_loss = 1.717\n",
      "Epoch  70 Batch   25/26   train_loss = 1.695\n",
      "Epoch  71 Batch   14/26   train_loss = 1.680\n",
      "Epoch  72 Batch    3/26   train_loss = 1.702\n",
      "Epoch  72 Batch   18/26   train_loss = 1.650\n",
      "Epoch  73 Batch    7/26   train_loss = 1.641\n",
      "Epoch  73 Batch   22/26   train_loss = 1.632\n",
      "Epoch  74 Batch   11/26   train_loss = 1.580\n",
      "Epoch  75 Batch    0/26   train_loss = 1.606\n",
      "Epoch  75 Batch   15/26   train_loss = 1.549\n",
      "Epoch  76 Batch    4/26   train_loss = 1.564\n",
      "Epoch  76 Batch   19/26   train_loss = 1.523\n",
      "Epoch  77 Batch    8/26   train_loss = 1.519\n",
      "Epoch  77 Batch   23/26   train_loss = 1.521\n",
      "Epoch  78 Batch   12/26   train_loss = 1.471\n",
      "Epoch  79 Batch    1/26   train_loss = 1.450\n",
      "Epoch  79 Batch   16/26   train_loss = 1.420\n",
      "Epoch  80 Batch    5/26   train_loss = 1.431\n",
      "Epoch  80 Batch   20/26   train_loss = 1.406\n",
      "Epoch  81 Batch    9/26   train_loss = 1.457\n",
      "Epoch  81 Batch   24/26   train_loss = 1.412\n",
      "Epoch  82 Batch   13/26   train_loss = 1.430\n",
      "Epoch  83 Batch    2/26   train_loss = 1.420\n",
      "Epoch  83 Batch   17/26   train_loss = 1.370\n",
      "Epoch  84 Batch    6/26   train_loss = 1.376\n",
      "Epoch  84 Batch   21/26   train_loss = 1.370\n",
      "Epoch  85 Batch   10/26   train_loss = 1.358\n",
      "Epoch  85 Batch   25/26   train_loss = 1.340\n",
      "Epoch  86 Batch   14/26   train_loss = 1.325\n",
      "Epoch  87 Batch    3/26   train_loss = 1.387\n",
      "Epoch  87 Batch   18/26   train_loss = 1.269\n",
      "Epoch  88 Batch    7/26   train_loss = 1.294\n",
      "Epoch  88 Batch   22/26   train_loss = 1.223\n",
      "Epoch  89 Batch   11/26   train_loss = 1.231\n",
      "Epoch  90 Batch    0/26   train_loss = 1.236\n",
      "Epoch  90 Batch   15/26   train_loss = 1.198\n",
      "Epoch  91 Batch    4/26   train_loss = 1.200\n",
      "Epoch  91 Batch   19/26   train_loss = 1.161\n",
      "Epoch  92 Batch    8/26   train_loss = 1.153\n",
      "Epoch  92 Batch   23/26   train_loss = 1.129\n",
      "Epoch  93 Batch   12/26   train_loss = 1.105\n",
      "Epoch  94 Batch    1/26   train_loss = 1.079\n",
      "Epoch  94 Batch   16/26   train_loss = 1.074\n",
      "Epoch  95 Batch    5/26   train_loss = 1.072\n",
      "Epoch  95 Batch   20/26   train_loss = 1.053\n",
      "Epoch  96 Batch    9/26   train_loss = 1.083\n",
      "Epoch  96 Batch   24/26   train_loss = 1.014\n",
      "Epoch  97 Batch   13/26   train_loss = 1.041\n",
      "Epoch  98 Batch    2/26   train_loss = 1.030\n",
      "Epoch  98 Batch   17/26   train_loss = 1.009\n",
      "Epoch  99 Batch    6/26   train_loss = 1.024\n",
      "Epoch  99 Batch   21/26   train_loss = 1.010\n",
      "Epoch 100 Batch   10/26   train_loss = 1.027\n",
      "Epoch 100 Batch   25/26   train_loss = 0.994\n",
      "Epoch 101 Batch   14/26   train_loss = 0.980\n",
      "Epoch 102 Batch    3/26   train_loss = 0.979\n",
      "Epoch 102 Batch   18/26   train_loss = 0.922\n",
      "Epoch 103 Batch    7/26   train_loss = 0.912\n",
      "Epoch 103 Batch   22/26   train_loss = 0.887\n",
      "Epoch 104 Batch   11/26   train_loss = 0.894\n",
      "Epoch 105 Batch    0/26   train_loss = 0.936\n",
      "Epoch 105 Batch   15/26   train_loss = 0.859\n",
      "Epoch 106 Batch    4/26   train_loss = 0.874\n",
      "Epoch 106 Batch   19/26   train_loss = 0.848\n",
      "Epoch 107 Batch    8/26   train_loss = 0.850\n",
      "Epoch 107 Batch   23/26   train_loss = 0.844\n",
      "Epoch 108 Batch   12/26   train_loss = 0.827\n",
      "Epoch 109 Batch    1/26   train_loss = 0.813\n",
      "Epoch 109 Batch   16/26   train_loss = 0.802\n",
      "Epoch 110 Batch    5/26   train_loss = 0.808\n",
      "Epoch 110 Batch   20/26   train_loss = 0.796\n",
      "Epoch 111 Batch    9/26   train_loss = 0.846\n",
      "Epoch 111 Batch   24/26   train_loss = 0.800\n",
      "Epoch 112 Batch   13/26   train_loss = 0.814\n",
      "Epoch 113 Batch    2/26   train_loss = 0.801\n",
      "Epoch 113 Batch   17/26   train_loss = 0.747\n",
      "Epoch 114 Batch    6/26   train_loss = 0.759\n",
      "Epoch 114 Batch   21/26   train_loss = 0.739\n",
      "Epoch 115 Batch   10/26   train_loss = 0.749\n",
      "Epoch 115 Batch   25/26   train_loss = 0.726\n",
      "Epoch 116 Batch   14/26   train_loss = 0.726\n",
      "Epoch 117 Batch    3/26   train_loss = 0.735\n",
      "Epoch 117 Batch   18/26   train_loss = 0.674\n",
      "Epoch 118 Batch    7/26   train_loss = 0.674\n",
      "Epoch 118 Batch   22/26   train_loss = 0.625\n",
      "Epoch 119 Batch   11/26   train_loss = 0.656\n",
      "Epoch 120 Batch    0/26   train_loss = 0.667\n",
      "Epoch 120 Batch   15/26   train_loss = 0.632\n",
      "Epoch 121 Batch    4/26   train_loss = 0.646\n",
      "Epoch 121 Batch   19/26   train_loss = 0.622\n",
      "Epoch 122 Batch    8/26   train_loss = 0.639\n",
      "Epoch 122 Batch   23/26   train_loss = 0.615\n",
      "Epoch 123 Batch   12/26   train_loss = 0.601\n",
      "Epoch 124 Batch    1/26   train_loss = 0.576\n",
      "Epoch 124 Batch   16/26   train_loss = 0.565\n",
      "Epoch 125 Batch    5/26   train_loss = 0.573\n",
      "Epoch 125 Batch   20/26   train_loss = 0.552\n",
      "Epoch 126 Batch    9/26   train_loss = 0.606\n",
      "Epoch 126 Batch   24/26   train_loss = 0.559\n",
      "Epoch 127 Batch   13/26   train_loss = 0.561\n",
      "Epoch 128 Batch    2/26   train_loss = 0.561\n",
      "Epoch 128 Batch   17/26   train_loss = 0.527\n",
      "Epoch 129 Batch    6/26   train_loss = 0.525\n",
      "Epoch 129 Batch   21/26   train_loss = 0.517\n",
      "Epoch 130 Batch   10/26   train_loss = 0.529\n",
      "Epoch 130 Batch   25/26   train_loss = 0.511\n",
      "Epoch 131 Batch   14/26   train_loss = 0.529\n",
      "Epoch 132 Batch    3/26   train_loss = 0.536\n",
      "Epoch 132 Batch   18/26   train_loss = 0.519\n",
      "Epoch 133 Batch    7/26   train_loss = 0.510\n",
      "Epoch 133 Batch   22/26   train_loss = 0.499\n",
      "Epoch 134 Batch   11/26   train_loss = 0.511\n",
      "Epoch 135 Batch    0/26   train_loss = 0.526\n",
      "Epoch 135 Batch   15/26   train_loss = 0.478\n",
      "Epoch 136 Batch    4/26   train_loss = 0.472\n",
      "Epoch 136 Batch   19/26   train_loss = 0.449\n",
      "Epoch 137 Batch    8/26   train_loss = 0.461\n",
      "Epoch 137 Batch   23/26   train_loss = 0.452\n",
      "Epoch 138 Batch   12/26   train_loss = 0.449\n",
      "Epoch 139 Batch    1/26   train_loss = 0.436\n",
      "Epoch 139 Batch   16/26   train_loss = 0.423\n",
      "Epoch 140 Batch    5/26   train_loss = 0.423\n",
      "Epoch 140 Batch   20/26   train_loss = 0.400\n",
      "Epoch 141 Batch    9/26   train_loss = 0.434\n",
      "Epoch 141 Batch   24/26   train_loss = 0.388\n",
      "Epoch 142 Batch   13/26   train_loss = 0.383\n",
      "Epoch 143 Batch    2/26   train_loss = 0.388\n",
      "Epoch 143 Batch   17/26   train_loss = 0.365\n",
      "Epoch 144 Batch    6/26   train_loss = 0.369\n",
      "Epoch 144 Batch   21/26   train_loss = 0.360\n",
      "Epoch 145 Batch   10/26   train_loss = 0.367\n",
      "Epoch 145 Batch   25/26   train_loss = 0.350\n",
      "Epoch 146 Batch   14/26   train_loss = 0.356\n",
      "Epoch 147 Batch    3/26   train_loss = 0.358\n",
      "Epoch 147 Batch   18/26   train_loss = 0.334\n",
      "Epoch 148 Batch    7/26   train_loss = 0.329\n",
      "Epoch 148 Batch   22/26   train_loss = 0.313\n",
      "Epoch 149 Batch   11/26   train_loss = 0.328\n",
      "Model Trained and Saved\n"
     ]
    }
   ],
   "source": [
    "\"\"\"\n",
    "DON'T MODIFY ANYTHING IN THIS CELL\n",
    "\"\"\"\n",
    "batches = get_batches(int_text, batch_size, seq_length)\n",
    "\n",
    "with tf.Session(graph=train_graph) as sess:\n",
    "    sess.run(tf.global_variables_initializer())\n",
    "\n",
    "    for epoch_i in range(num_epochs):\n",
    "        state = sess.run(initial_state, {input_text: batches[0][0]})\n",
    "\n",
    "        for batch_i, (x, y) in enumerate(batches):\n",
    "            feed = {\n",
    "                input_text: x,\n",
    "                targets: y,\n",
    "                initial_state: state,\n",
    "                lr: learning_rate}\n",
    "            train_loss, state, _ = sess.run([cost, final_state, train_op], feed)\n",
    "\n",
    "            # Show every <show_every_n_batches> batches\n",
    "            if (epoch_i * len(batches) + batch_i) % show_every_n_batches == 0:\n",
    "                print('Epoch {:>3} Batch {:>4}/{}   train_loss = {:.3f}'.format(\n",
    "                    epoch_i,\n",
    "                    batch_i,\n",
    "                    len(batches),\n",
    "                    train_loss))\n",
    "\n",
    "    # Save Model\n",
    "    saver = tf.train.Saver()\n",
    "    saver.save(sess, save_dir)\n",
    "    print('Model Trained and Saved')"
   ]
  },
  {
   "cell_type": "markdown",
   "metadata": {
    "deletable": true,
    "editable": true
   },
   "source": [
    "## Save Parameters\n",
    "Save `seq_length` and `save_dir` for generating a new TV script."
   ]
  },
  {
   "cell_type": "code",
   "execution_count": 22,
   "metadata": {
    "collapsed": false,
    "deletable": true,
    "editable": true
   },
   "outputs": [],
   "source": [
    "\"\"\"\n",
    "DON'T MODIFY ANYTHING IN THIS CELL\n",
    "\"\"\"\n",
    "# Save parameters for checkpoint\n",
    "helper.save_params((seq_length, save_dir))"
   ]
  },
  {
   "cell_type": "markdown",
   "metadata": {
    "deletable": true,
    "editable": true
   },
   "source": [
    "# Checkpoint"
   ]
  },
  {
   "cell_type": "code",
   "execution_count": 23,
   "metadata": {
    "collapsed": false,
    "deletable": true,
    "editable": true
   },
   "outputs": [],
   "source": [
    "\"\"\"\n",
    "DON'T MODIFY ANYTHING IN THIS CELL\n",
    "\"\"\"\n",
    "import tensorflow as tf\n",
    "import numpy as np\n",
    "import helper\n",
    "import problem_unittests as tests\n",
    "\n",
    "_, vocab_to_int, int_to_vocab, token_dict = helper.load_preprocess()\n",
    "seq_length, load_dir = helper.load_params()"
   ]
  },
  {
   "cell_type": "markdown",
   "metadata": {
    "deletable": true,
    "editable": true
   },
   "source": [
    "## Implement Generate Functions\n",
    "### Get Tensors\n",
    "Get tensors from `loaded_graph` using the function [`get_tensor_by_name()`](https://www.tensorflow.org/api_docs/python/tf/Graph#get_tensor_by_name).  Get the tensors using the following names:\n",
    "- \"input:0\"\n",
    "- \"initial_state:0\"\n",
    "- \"final_state:0\"\n",
    "- \"probs:0\"\n",
    "\n",
    "Return the tensors in the following tuple `(InputTensor, InitialStateTensor, FinalStateTensor, ProbsTensor)` "
   ]
  },
  {
   "cell_type": "code",
   "execution_count": 24,
   "metadata": {
    "collapsed": false,
    "deletable": true,
    "editable": true
   },
   "outputs": [
    {
     "name": "stdout",
     "output_type": "stream",
     "text": [
      "Tests Passed\n"
     ]
    }
   ],
   "source": [
    "def get_tenors(loaded_graph):\n",
    "    \"\"\"\n",
    "    Get input, initial state, final state, and probabilities tensor from <loaded_graph>\n",
    "    :param loaded_graph: TensorFlow graph loaded from file\n",
    "    :return: Tuple (InputTensor, InitialStateTensor, FinalStateTensor, ProbsTensor)\n",
    "    \"\"\"\n",
    "    # TODO: Implement Function\n",
    "    input_tensor = loaded_graph.get_tensor_by_name(\"input:0\")\n",
    "    initial_state_tensor = loaded_graph.get_tensor_by_name(\"initial_state:0\")\n",
    "    final_state_tensor = loaded_graph.get_tensor_by_name(\"final_state:0\")\n",
    "    probs_tensor = loaded_graph.get_tensor_by_name(\"probs:0\")\n",
    "    return input_tensor, initial_state_tensor, final_state_tensor, probs_tensor\n",
    "\n",
    "\n",
    "\"\"\"\n",
    "DON'T MODIFY ANYTHING IN THIS CELL THAT IS BELOW THIS LINE\n",
    "\"\"\"\n",
    "tests.test_get_tenors(get_tenors)"
   ]
  },
  {
   "cell_type": "markdown",
   "metadata": {
    "deletable": true,
    "editable": true
   },
   "source": [
    "### Choose Word\n",
    "Implement the `pick_word()` function to select the next word using `probabilities`."
   ]
  },
  {
   "cell_type": "code",
   "execution_count": 48,
   "metadata": {
    "collapsed": false,
    "deletable": true,
    "editable": true
   },
   "outputs": [
    {
     "name": "stdout",
     "output_type": "stream",
     "text": [
      "Tests Passed\n"
     ]
    }
   ],
   "source": [
    "import random\n",
    "def pick_word(probabilities, int_to_vocab):\n",
    "    \"\"\"\n",
    "    Pick the next word in the generated text\n",
    "    :param probabilities: Probabilites of the next word\n",
    "    :param int_to_vocab: Dictionary of word ids as the keys and words as the values\n",
    "    :return: String of the predicted word\n",
    "    \"\"\"\n",
    "    # TODO: Implement Function\n",
    "    while True:\n",
    "        for i in range(len(probabilities)):\n",
    "            if probabilities[i] > random.random():\n",
    "                return int_to_vocab[i]\n",
    "\n",
    "\"\"\"\n",
    "DON'T MODIFY ANYTHING IN THIS CELL THAT IS BELOW THIS LINE\n",
    "\"\"\"\n",
    "tests.test_pick_word(pick_word)"
   ]
  },
  {
   "cell_type": "markdown",
   "metadata": {
    "deletable": true,
    "editable": true
   },
   "source": [
    "## Generate TV Script\n",
    "This will generate the TV script for you.  Set `gen_length` to the length of TV script you want to generate."
   ]
  },
  {
   "cell_type": "code",
   "execution_count": 49,
   "metadata": {
    "collapsed": false,
    "deletable": true,
    "editable": true
   },
   "outputs": [
    {
     "ename": "InvalidArgumentError",
     "evalue": "In[0].dim(0) and In[1].dim(0) must be the same: [1,1,256] vs [128,256,6783]\n\t [[Node: MatMul = BatchMatMul[T=DT_FLOAT, adj_x=false, adj_y=false, _device=\"/job:localhost/replica:0/task:0/gpu:0\"](rnn/transpose, Variable_1/read)]]\n\nCaused by op 'MatMul', defined at:\n  File \"/usr/local/lib/python3.5/runpy.py\", line 193, in _run_module_as_main\n    \"__main__\", mod_spec)\n  File \"/usr/local/lib/python3.5/runpy.py\", line 85, in _run_code\n    exec(code, run_globals)\n  File \"/usr/local/lib/python3.5/site-packages/ipykernel/__main__.py\", line 3, in <module>\n    app.launch_new_instance()\n  File \"/usr/local/lib/python3.5/site-packages/traitlets/config/application.py\", line 658, in launch_instance\n    app.start()\n  File \"/usr/local/lib/python3.5/site-packages/ipykernel/kernelapp.py\", line 474, in start\n    ioloop.IOLoop.instance().start()\n  File \"/usr/local/lib/python3.5/site-packages/zmq/eventloop/ioloop.py\", line 177, in start\n    super(ZMQIOLoop, self).start()\n  File \"/usr/local/lib/python3.5/site-packages/tornado/ioloop.py\", line 887, in start\n    handler_func(fd_obj, events)\n  File \"/usr/local/lib/python3.5/site-packages/tornado/stack_context.py\", line 275, in null_wrapper\n    return fn(*args, **kwargs)\n  File \"/usr/local/lib/python3.5/site-packages/zmq/eventloop/zmqstream.py\", line 440, in _handle_events\n    self._handle_recv()\n  File \"/usr/local/lib/python3.5/site-packages/zmq/eventloop/zmqstream.py\", line 472, in _handle_recv\n    self._run_callback(callback, msg)\n  File \"/usr/local/lib/python3.5/site-packages/zmq/eventloop/zmqstream.py\", line 414, in _run_callback\n    callback(*args, **kwargs)\n  File \"/usr/local/lib/python3.5/site-packages/tornado/stack_context.py\", line 275, in null_wrapper\n    return fn(*args, **kwargs)\n  File \"/usr/local/lib/python3.5/site-packages/ipykernel/kernelbase.py\", line 276, in dispatcher\n    return self.dispatch_shell(stream, msg)\n  File \"/usr/local/lib/python3.5/site-packages/ipykernel/kernelbase.py\", line 228, in dispatch_shell\n    handler(stream, idents, msg)\n  File \"/usr/local/lib/python3.5/site-packages/ipykernel/kernelbase.py\", line 390, in execute_request\n    user_expressions, allow_stdin)\n  File \"/usr/local/lib/python3.5/site-packages/ipykernel/ipkernel.py\", line 196, in do_execute\n    res = shell.run_cell(code, store_history=store_history, silent=silent)\n  File \"/usr/local/lib/python3.5/site-packages/ipykernel/zmqshell.py\", line 501, in run_cell\n    return super(ZMQInteractiveShell, self).run_cell(*args, **kwargs)\n  File \"/usr/local/lib/python3.5/site-packages/IPython/core/interactiveshell.py\", line 2717, in run_cell\n    interactivity=interactivity, compiler=compiler, result=result)\n  File \"/usr/local/lib/python3.5/site-packages/IPython/core/interactiveshell.py\", line 2821, in run_ast_nodes\n    if self.run_code(code, result):\n  File \"/usr/local/lib/python3.5/site-packages/IPython/core/interactiveshell.py\", line 2881, in run_code\n    exec(code_obj, self.user_global_ns, self.user_ns)\n  File \"<ipython-input-49-bb41c1365411>\", line 11, in <module>\n    loader = tf.train.import_meta_graph(load_dir + '.meta')\n  File \"/usr/local/lib/python3.5/site-packages/tensorflow/python/training/saver.py\", line 1577, in import_meta_graph\n    **kwargs)\n  File \"/usr/local/lib/python3.5/site-packages/tensorflow/python/framework/meta_graph.py\", line 498, in import_scoped_meta_graph\n    producer_op_list=producer_op_list)\n  File \"/usr/local/lib/python3.5/site-packages/tensorflow/python/framework/importer.py\", line 287, in import_graph_def\n    op_def=op_def)\n  File \"/usr/local/lib/python3.5/site-packages/tensorflow/python/framework/ops.py\", line 2395, in create_op\n    original_op=self._default_original_op, op_def=op_def)\n  File \"/usr/local/lib/python3.5/site-packages/tensorflow/python/framework/ops.py\", line 1264, in __init__\n    self._traceback = _extract_stack()\n\nInvalidArgumentError (see above for traceback): In[0].dim(0) and In[1].dim(0) must be the same: [1,1,256] vs [128,256,6783]\n\t [[Node: MatMul = BatchMatMul[T=DT_FLOAT, adj_x=false, adj_y=false, _device=\"/job:localhost/replica:0/task:0/gpu:0\"](rnn/transpose, Variable_1/read)]]\n",
     "output_type": "error",
     "traceback": [
      "\u001b[0;31m---------------------------------------------------------------------------\u001b[0m",
      "\u001b[0;31mInvalidArgumentError\u001b[0m                      Traceback (most recent call last)",
      "\u001b[0;32m/usr/local/lib/python3.5/site-packages/tensorflow/python/client/session.py\u001b[0m in \u001b[0;36m_do_call\u001b[0;34m(self, fn, *args)\u001b[0m\n\u001b[1;32m   1021\u001b[0m     \u001b[0;32mtry\u001b[0m\u001b[0;34m:\u001b[0m\u001b[0;34m\u001b[0m\u001b[0m\n\u001b[0;32m-> 1022\u001b[0;31m       \u001b[0;32mreturn\u001b[0m \u001b[0mfn\u001b[0m\u001b[0;34m(\u001b[0m\u001b[0;34m*\u001b[0m\u001b[0margs\u001b[0m\u001b[0;34m)\u001b[0m\u001b[0;34m\u001b[0m\u001b[0m\n\u001b[0m\u001b[1;32m   1023\u001b[0m     \u001b[0;32mexcept\u001b[0m \u001b[0merrors\u001b[0m\u001b[0;34m.\u001b[0m\u001b[0mOpError\u001b[0m \u001b[0;32mas\u001b[0m \u001b[0me\u001b[0m\u001b[0;34m:\u001b[0m\u001b[0;34m\u001b[0m\u001b[0m\n",
      "\u001b[0;32m/usr/local/lib/python3.5/site-packages/tensorflow/python/client/session.py\u001b[0m in \u001b[0;36m_run_fn\u001b[0;34m(session, feed_dict, fetch_list, target_list, options, run_metadata)\u001b[0m\n\u001b[1;32m   1003\u001b[0m                                  \u001b[0mfeed_dict\u001b[0m\u001b[0;34m,\u001b[0m \u001b[0mfetch_list\u001b[0m\u001b[0;34m,\u001b[0m \u001b[0mtarget_list\u001b[0m\u001b[0;34m,\u001b[0m\u001b[0;34m\u001b[0m\u001b[0m\n\u001b[0;32m-> 1004\u001b[0;31m                                  status, run_metadata)\n\u001b[0m\u001b[1;32m   1005\u001b[0m \u001b[0;34m\u001b[0m\u001b[0m\n",
      "\u001b[0;32m/usr/local/lib/python3.5/contextlib.py\u001b[0m in \u001b[0;36m__exit__\u001b[0;34m(self, type, value, traceback)\u001b[0m\n\u001b[1;32m     65\u001b[0m             \u001b[0;32mtry\u001b[0m\u001b[0;34m:\u001b[0m\u001b[0;34m\u001b[0m\u001b[0m\n\u001b[0;32m---> 66\u001b[0;31m                 \u001b[0mnext\u001b[0m\u001b[0;34m(\u001b[0m\u001b[0mself\u001b[0m\u001b[0;34m.\u001b[0m\u001b[0mgen\u001b[0m\u001b[0;34m)\u001b[0m\u001b[0;34m\u001b[0m\u001b[0m\n\u001b[0m\u001b[1;32m     67\u001b[0m             \u001b[0;32mexcept\u001b[0m \u001b[0mStopIteration\u001b[0m\u001b[0;34m:\u001b[0m\u001b[0;34m\u001b[0m\u001b[0m\n",
      "\u001b[0;32m/usr/local/lib/python3.5/site-packages/tensorflow/python/framework/errors_impl.py\u001b[0m in \u001b[0;36mraise_exception_on_not_ok_status\u001b[0;34m()\u001b[0m\n\u001b[1;32m    468\u001b[0m           \u001b[0mcompat\u001b[0m\u001b[0;34m.\u001b[0m\u001b[0mas_text\u001b[0m\u001b[0;34m(\u001b[0m\u001b[0mpywrap_tensorflow\u001b[0m\u001b[0;34m.\u001b[0m\u001b[0mTF_Message\u001b[0m\u001b[0;34m(\u001b[0m\u001b[0mstatus\u001b[0m\u001b[0;34m)\u001b[0m\u001b[0;34m)\u001b[0m\u001b[0;34m,\u001b[0m\u001b[0;34m\u001b[0m\u001b[0m\n\u001b[0;32m--> 469\u001b[0;31m           pywrap_tensorflow.TF_GetCode(status))\n\u001b[0m\u001b[1;32m    470\u001b[0m   \u001b[0;32mfinally\u001b[0m\u001b[0;34m:\u001b[0m\u001b[0;34m\u001b[0m\u001b[0m\n",
      "\u001b[0;31mInvalidArgumentError\u001b[0m: In[0].dim(0) and In[1].dim(0) must be the same: [1,1,256] vs [128,256,6783]\n\t [[Node: MatMul = BatchMatMul[T=DT_FLOAT, adj_x=false, adj_y=false, _device=\"/job:localhost/replica:0/task:0/gpu:0\"](rnn/transpose, Variable_1/read)]]",
      "\nDuring handling of the above exception, another exception occurred:\n",
      "\u001b[0;31mInvalidArgumentError\u001b[0m                      Traceback (most recent call last)",
      "\u001b[0;32m<ipython-input-49-bb41c1365411>\u001b[0m in \u001b[0;36m<module>\u001b[0;34m()\u001b[0m\n\u001b[1;32m     28\u001b[0m         probabilities, prev_state = sess.run(\n\u001b[1;32m     29\u001b[0m             \u001b[0;34m[\u001b[0m\u001b[0mprobs\u001b[0m\u001b[0;34m,\u001b[0m \u001b[0mfinal_state\u001b[0m\u001b[0;34m]\u001b[0m\u001b[0;34m,\u001b[0m\u001b[0;34m\u001b[0m\u001b[0m\n\u001b[0;32m---> 30\u001b[0;31m             {input_text: dyn_input, initial_state: prev_state})\n\u001b[0m\u001b[1;32m     31\u001b[0m \u001b[0;34m\u001b[0m\u001b[0m\n\u001b[1;32m     32\u001b[0m         \u001b[0mpred_word\u001b[0m \u001b[0;34m=\u001b[0m \u001b[0mpick_word\u001b[0m\u001b[0;34m(\u001b[0m\u001b[0mprobabilities\u001b[0m\u001b[0;34m[\u001b[0m\u001b[0mdyn_seq_length\u001b[0m\u001b[0;34m-\u001b[0m\u001b[0;36m1\u001b[0m\u001b[0;34m]\u001b[0m\u001b[0;34m,\u001b[0m \u001b[0mint_to_vocab\u001b[0m\u001b[0;34m)\u001b[0m\u001b[0;34m\u001b[0m\u001b[0m\n",
      "\u001b[0;32m/usr/local/lib/python3.5/site-packages/tensorflow/python/client/session.py\u001b[0m in \u001b[0;36mrun\u001b[0;34m(self, fetches, feed_dict, options, run_metadata)\u001b[0m\n\u001b[1;32m    765\u001b[0m     \u001b[0;32mtry\u001b[0m\u001b[0;34m:\u001b[0m\u001b[0;34m\u001b[0m\u001b[0m\n\u001b[1;32m    766\u001b[0m       result = self._run(None, fetches, feed_dict, options_ptr,\n\u001b[0;32m--> 767\u001b[0;31m                          run_metadata_ptr)\n\u001b[0m\u001b[1;32m    768\u001b[0m       \u001b[0;32mif\u001b[0m \u001b[0mrun_metadata\u001b[0m\u001b[0;34m:\u001b[0m\u001b[0;34m\u001b[0m\u001b[0m\n\u001b[1;32m    769\u001b[0m         \u001b[0mproto_data\u001b[0m \u001b[0;34m=\u001b[0m \u001b[0mtf_session\u001b[0m\u001b[0;34m.\u001b[0m\u001b[0mTF_GetBuffer\u001b[0m\u001b[0;34m(\u001b[0m\u001b[0mrun_metadata_ptr\u001b[0m\u001b[0;34m)\u001b[0m\u001b[0;34m\u001b[0m\u001b[0m\n",
      "\u001b[0;32m/usr/local/lib/python3.5/site-packages/tensorflow/python/client/session.py\u001b[0m in \u001b[0;36m_run\u001b[0;34m(self, handle, fetches, feed_dict, options, run_metadata)\u001b[0m\n\u001b[1;32m    963\u001b[0m     \u001b[0;32mif\u001b[0m \u001b[0mfinal_fetches\u001b[0m \u001b[0;32mor\u001b[0m \u001b[0mfinal_targets\u001b[0m\u001b[0;34m:\u001b[0m\u001b[0;34m\u001b[0m\u001b[0m\n\u001b[1;32m    964\u001b[0m       results = self._do_run(handle, final_targets, final_fetches,\n\u001b[0;32m--> 965\u001b[0;31m                              feed_dict_string, options, run_metadata)\n\u001b[0m\u001b[1;32m    966\u001b[0m     \u001b[0;32melse\u001b[0m\u001b[0;34m:\u001b[0m\u001b[0;34m\u001b[0m\u001b[0m\n\u001b[1;32m    967\u001b[0m       \u001b[0mresults\u001b[0m \u001b[0;34m=\u001b[0m \u001b[0;34m[\u001b[0m\u001b[0;34m]\u001b[0m\u001b[0;34m\u001b[0m\u001b[0m\n",
      "\u001b[0;32m/usr/local/lib/python3.5/site-packages/tensorflow/python/client/session.py\u001b[0m in \u001b[0;36m_do_run\u001b[0;34m(self, handle, target_list, fetch_list, feed_dict, options, run_metadata)\u001b[0m\n\u001b[1;32m   1013\u001b[0m     \u001b[0;32mif\u001b[0m \u001b[0mhandle\u001b[0m \u001b[0;32mis\u001b[0m \u001b[0;32mNone\u001b[0m\u001b[0;34m:\u001b[0m\u001b[0;34m\u001b[0m\u001b[0m\n\u001b[1;32m   1014\u001b[0m       return self._do_call(_run_fn, self._session, feed_dict, fetch_list,\n\u001b[0;32m-> 1015\u001b[0;31m                            target_list, options, run_metadata)\n\u001b[0m\u001b[1;32m   1016\u001b[0m     \u001b[0;32melse\u001b[0m\u001b[0;34m:\u001b[0m\u001b[0;34m\u001b[0m\u001b[0m\n\u001b[1;32m   1017\u001b[0m       return self._do_call(_prun_fn, self._session, handle, feed_dict,\n",
      "\u001b[0;32m/usr/local/lib/python3.5/site-packages/tensorflow/python/client/session.py\u001b[0m in \u001b[0;36m_do_call\u001b[0;34m(self, fn, *args)\u001b[0m\n\u001b[1;32m   1033\u001b[0m         \u001b[0;32mexcept\u001b[0m \u001b[0mKeyError\u001b[0m\u001b[0;34m:\u001b[0m\u001b[0;34m\u001b[0m\u001b[0m\n\u001b[1;32m   1034\u001b[0m           \u001b[0;32mpass\u001b[0m\u001b[0;34m\u001b[0m\u001b[0m\n\u001b[0;32m-> 1035\u001b[0;31m       \u001b[0;32mraise\u001b[0m \u001b[0mtype\u001b[0m\u001b[0;34m(\u001b[0m\u001b[0me\u001b[0m\u001b[0;34m)\u001b[0m\u001b[0;34m(\u001b[0m\u001b[0mnode_def\u001b[0m\u001b[0;34m,\u001b[0m \u001b[0mop\u001b[0m\u001b[0;34m,\u001b[0m \u001b[0mmessage\u001b[0m\u001b[0;34m)\u001b[0m\u001b[0;34m\u001b[0m\u001b[0m\n\u001b[0m\u001b[1;32m   1036\u001b[0m \u001b[0;34m\u001b[0m\u001b[0m\n\u001b[1;32m   1037\u001b[0m   \u001b[0;32mdef\u001b[0m \u001b[0m_extend_graph\u001b[0m\u001b[0;34m(\u001b[0m\u001b[0mself\u001b[0m\u001b[0;34m)\u001b[0m\u001b[0;34m:\u001b[0m\u001b[0;34m\u001b[0m\u001b[0m\n",
      "\u001b[0;31mInvalidArgumentError\u001b[0m: In[0].dim(0) and In[1].dim(0) must be the same: [1,1,256] vs [128,256,6783]\n\t [[Node: MatMul = BatchMatMul[T=DT_FLOAT, adj_x=false, adj_y=false, _device=\"/job:localhost/replica:0/task:0/gpu:0\"](rnn/transpose, Variable_1/read)]]\n\nCaused by op 'MatMul', defined at:\n  File \"/usr/local/lib/python3.5/runpy.py\", line 193, in _run_module_as_main\n    \"__main__\", mod_spec)\n  File \"/usr/local/lib/python3.5/runpy.py\", line 85, in _run_code\n    exec(code, run_globals)\n  File \"/usr/local/lib/python3.5/site-packages/ipykernel/__main__.py\", line 3, in <module>\n    app.launch_new_instance()\n  File \"/usr/local/lib/python3.5/site-packages/traitlets/config/application.py\", line 658, in launch_instance\n    app.start()\n  File \"/usr/local/lib/python3.5/site-packages/ipykernel/kernelapp.py\", line 474, in start\n    ioloop.IOLoop.instance().start()\n  File \"/usr/local/lib/python3.5/site-packages/zmq/eventloop/ioloop.py\", line 177, in start\n    super(ZMQIOLoop, self).start()\n  File \"/usr/local/lib/python3.5/site-packages/tornado/ioloop.py\", line 887, in start\n    handler_func(fd_obj, events)\n  File \"/usr/local/lib/python3.5/site-packages/tornado/stack_context.py\", line 275, in null_wrapper\n    return fn(*args, **kwargs)\n  File \"/usr/local/lib/python3.5/site-packages/zmq/eventloop/zmqstream.py\", line 440, in _handle_events\n    self._handle_recv()\n  File \"/usr/local/lib/python3.5/site-packages/zmq/eventloop/zmqstream.py\", line 472, in _handle_recv\n    self._run_callback(callback, msg)\n  File \"/usr/local/lib/python3.5/site-packages/zmq/eventloop/zmqstream.py\", line 414, in _run_callback\n    callback(*args, **kwargs)\n  File \"/usr/local/lib/python3.5/site-packages/tornado/stack_context.py\", line 275, in null_wrapper\n    return fn(*args, **kwargs)\n  File \"/usr/local/lib/python3.5/site-packages/ipykernel/kernelbase.py\", line 276, in dispatcher\n    return self.dispatch_shell(stream, msg)\n  File \"/usr/local/lib/python3.5/site-packages/ipykernel/kernelbase.py\", line 228, in dispatch_shell\n    handler(stream, idents, msg)\n  File \"/usr/local/lib/python3.5/site-packages/ipykernel/kernelbase.py\", line 390, in execute_request\n    user_expressions, allow_stdin)\n  File \"/usr/local/lib/python3.5/site-packages/ipykernel/ipkernel.py\", line 196, in do_execute\n    res = shell.run_cell(code, store_history=store_history, silent=silent)\n  File \"/usr/local/lib/python3.5/site-packages/ipykernel/zmqshell.py\", line 501, in run_cell\n    return super(ZMQInteractiveShell, self).run_cell(*args, **kwargs)\n  File \"/usr/local/lib/python3.5/site-packages/IPython/core/interactiveshell.py\", line 2717, in run_cell\n    interactivity=interactivity, compiler=compiler, result=result)\n  File \"/usr/local/lib/python3.5/site-packages/IPython/core/interactiveshell.py\", line 2821, in run_ast_nodes\n    if self.run_code(code, result):\n  File \"/usr/local/lib/python3.5/site-packages/IPython/core/interactiveshell.py\", line 2881, in run_code\n    exec(code_obj, self.user_global_ns, self.user_ns)\n  File \"<ipython-input-49-bb41c1365411>\", line 11, in <module>\n    loader = tf.train.import_meta_graph(load_dir + '.meta')\n  File \"/usr/local/lib/python3.5/site-packages/tensorflow/python/training/saver.py\", line 1577, in import_meta_graph\n    **kwargs)\n  File \"/usr/local/lib/python3.5/site-packages/tensorflow/python/framework/meta_graph.py\", line 498, in import_scoped_meta_graph\n    producer_op_list=producer_op_list)\n  File \"/usr/local/lib/python3.5/site-packages/tensorflow/python/framework/importer.py\", line 287, in import_graph_def\n    op_def=op_def)\n  File \"/usr/local/lib/python3.5/site-packages/tensorflow/python/framework/ops.py\", line 2395, in create_op\n    original_op=self._default_original_op, op_def=op_def)\n  File \"/usr/local/lib/python3.5/site-packages/tensorflow/python/framework/ops.py\", line 1264, in __init__\n    self._traceback = _extract_stack()\n\nInvalidArgumentError (see above for traceback): In[0].dim(0) and In[1].dim(0) must be the same: [1,1,256] vs [128,256,6783]\n\t [[Node: MatMul = BatchMatMul[T=DT_FLOAT, adj_x=false, adj_y=false, _device=\"/job:localhost/replica:0/task:0/gpu:0\"](rnn/transpose, Variable_1/read)]]\n"
     ]
    }
   ],
   "source": [
    "gen_length = 200\n",
    "# homer_simpson, moe_szyslak, or Barney_Gumble\n",
    "prime_word = 'moe_szyslak'\n",
    "\n",
    "\"\"\"\n",
    "DON'T MODIFY ANYTHING IN THIS CELL THAT IS BELOW THIS LINE\n",
    "\"\"\"\n",
    "loaded_graph = tf.Graph()\n",
    "with tf.Session(graph=loaded_graph) as sess:\n",
    "    # Load saved model\n",
    "    loader = tf.train.import_meta_graph(load_dir + '.meta')\n",
    "    loader.restore(sess, load_dir)\n",
    "\n",
    "    # Get Tensors from loaded model\n",
    "    input_text, initial_state, final_state, probs = get_tenors(loaded_graph)\n",
    "\n",
    "    # Sentences generation setup\n",
    "    gen_sentences = [prime_word + ':']\n",
    "    prev_state = sess.run(initial_state, {input_text: np.array([[1]])})\n",
    "\n",
    "    # Generate sentences\n",
    "    for n in range(gen_length):\n",
    "        # Dynamic Input\n",
    "        dyn_input = [[vocab_to_int[word] for word in gen_sentences[-seq_length:]]]\n",
    "        dyn_seq_length = len(dyn_input[0])\n",
    "\n",
    "        # Get Prediction\n",
    "        probabilities, prev_state = sess.run(\n",
    "            [probs, final_state],\n",
    "            {input_text: dyn_input, initial_state: prev_state})\n",
    "        \n",
    "        pred_word = pick_word(probabilities[dyn_seq_length-1], int_to_vocab)\n",
    "\n",
    "        gen_sentences.append(pred_word)\n",
    "    \n",
    "    # Remove tokens\n",
    "    tv_script = ' '.join(gen_sentences)\n",
    "    for key, token in token_dict.items():\n",
    "        ending = ' ' if key in ['\\n', '(', '\"'] else ''\n",
    "        tv_script = tv_script.replace(' ' + token.lower(), key)\n",
    "    tv_script = tv_script.replace('\\n ', '\\n')\n",
    "    tv_script = tv_script.replace('( ', '(')\n",
    "        \n",
    "    print(tv_script)"
   ]
  },
  {
   "cell_type": "markdown",
   "metadata": {
    "deletable": true,
    "editable": true
   },
   "source": [
    "# The TV Script is Nonsensical\n",
    "It's ok if the TV script doesn't make any sense.  We trained on less than a megabyte of text.  In order to get good results, you'll have to use a smaller vocabulary or get more data.  Luckly there's more data!  As we mentioned in the begging of this project, this is a subset of [another dataset](https://www.kaggle.com/wcukierski/the-simpsons-by-the-dat).  We didn't have you train on all the data, because that would take too long.  However, you are free to train your neural network on all the data.  After you complete the project, of course.\n",
    "# Submitting This Project\n",
    "When submitting this project, make sure to run all the cells before saving the notebook. Save the notebook file as \"dlnd_tv_script_generation.ipynb\" and save it as a HTML file under \"File\" -> \"Download as\". Include the \"helper.py\" and \"problem_unittests.py\" files in your submission."
   ]
  }
 ],
 "metadata": {
  "kernelspec": {
   "display_name": "Python 3",
   "language": "python",
   "name": "python3"
  },
  "language_info": {
   "codemirror_mode": {
    "name": "ipython",
    "version": 3
   },
   "file_extension": ".py",
   "mimetype": "text/x-python",
   "name": "python",
   "nbconvert_exporter": "python",
   "pygments_lexer": "ipython3",
   "version": "3.5.3"
  },
  "widgets": {
   "state": {},
   "version": "1.1.2"
  }
 },
 "nbformat": 4,
 "nbformat_minor": 0
}
